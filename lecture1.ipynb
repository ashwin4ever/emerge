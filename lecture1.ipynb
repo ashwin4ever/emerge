{
 "cells": [
  {
   "cell_type": "markdown",
   "metadata": {},
   "source": [
    "# PSY105 Lecture 1: Emergence, levels of description and the brain"
   ]
  },
  {
   "cell_type": "markdown",
   "metadata": {},
   "source": [
    "This is a notebook, a way of looking at python code that shows comments (like this here) the code you run (below) and the results (below each piece of code).\n",
    "\n",
    "Python is a free programming language. This means you can compute things.\n",
    "\n",
    "Like this:"
   ]
  },
  {
   "cell_type": "code",
   "execution_count": 10,
   "metadata": {
    "collapsed": false
   },
   "outputs": [
    {
     "name": "stdout",
     "output_type": "stream",
     "text": [
      "2\n"
     ]
    }
   ],
   "source": [
    "print 1+1"
   ]
  },
  {
   "cell_type": "markdown",
   "metadata": {},
   "source": [
    "Programming languages work on assigning values to particular letter-words strings. These are called variables"
   ]
  },
  {
   "cell_type": "code",
   "execution_count": 11,
   "metadata": {
    "collapsed": false
   },
   "outputs": [
    {
     "name": "stdout",
     "output_type": "stream",
     "text": [
      "Hello Tom\n"
     ]
    }
   ],
   "source": [
    "my_name = \"Tom\"\n",
    "\n",
    "print \"Hello \" + my_name"
   ]
  },
  {
   "cell_type": "code",
   "execution_count": 12,
   "metadata": {
    "collapsed": false
   },
   "outputs": [
    {
     "name": "stdout",
     "output_type": "stream",
     "text": [
      "2\n"
     ]
    }
   ],
   "source": [
    "x=1\n",
    "\n",
    "print x+1"
   ]
  },
  {
   "cell_type": "markdown",
   "metadata": {},
   "source": [
    "This code converts your height in inches to your height in cm"
   ]
  },
  {
   "cell_type": "code",
   "execution_count": 13,
   "metadata": {
    "collapsed": false
   },
   "outputs": [
    {
     "name": "stdout",
     "output_type": "stream",
     "text": [
      "my height in inches = 72\n",
      "my height in cm = 182.88\n"
     ]
    }
   ],
   "source": [
    "#words behind a hashtag are comments\n",
    "\n",
    "#enter your information here\n",
    "my_height_feet=5\n",
    "my_height_inches=12\n",
    "\n",
    "#now convert feet and inches to just inches\n",
    "my_height_just_inches=my_height_feet*12 + my_height_inches\n",
    "print \"my height in inches = \" + str(my_height_just_inches)\n",
    "\n",
    "#now convert from inches to cm\n",
    "my_height_cm = my_height_just_inches * 2.54\n",
    "print \"my height in cm = \" + str(my_height_cm)"
   ]
  },
  {
   "cell_type": "markdown",
   "metadata": {},
   "source": [
    "# An example of emergence"
   ]
  },
  {
   "cell_type": "markdown",
   "metadata": {},
   "source": [
    "We are going to use http://shoutkey.com/ and a google docs spreadsheet to collect the heights (in centimeters) of everyone in the class. You can then copy/paste into the code below"
   ]
  },
  {
   "cell_type": "code",
   "execution_count": 14,
   "metadata": {
    "collapsed": false
   },
   "outputs": [
    {
     "name": "stdout",
     "output_type": "stream",
     "text": [
      "height data = [118, 123, 124]\n"
     ]
    }
   ],
   "source": [
    "''' (three apostrophes defines a block of comments)\n",
    "\n",
    "#This generates some random numbers if you just want to see the graph\n",
    "import numpy as np\n",
    "class_size=41\n",
    "h=np.random.randn(class_size)*6.1+162\n",
    "'''\n",
    "\n",
    "h=[118\t,\n",
    "123\t,\n",
    "124\t]\n",
    "\n",
    "print \"height data = \" + str(h)"
   ]
  },
  {
   "cell_type": "code",
   "execution_count": 15,
   "metadata": {
    "collapsed": false
   },
   "outputs": [
    {
     "data": {
      "text/plain": [
       "<matplotlib.text.Text at 0x7fd302021a10>"
      ]
     },
     "execution_count": 15,
     "metadata": {},
     "output_type": "execute_result"
    },
    {
     "data": {
      "image/png": "[encoded data removed]",
      "text/plain": [
       "<matplotlib.figure.Figure at 0x7fd302092f10>"
      ]
     },
     "metadata": {},
     "output_type": "display_data"
    }
   ],
   "source": [
    "#In python if you want to do something complicated, you often import some new commands (called a library)\n",
    "\n",
    "import pylab as plt #get graph plotting commands\n",
    "#draw graphs in this notebook rather than in separate windows\n",
    "%matplotlib inline \n",
    "\n",
    "plt.hist(h) #draw a histrogram\n",
    "plt.xlabel('height') #label the x axis\n",
    "plt.ylabel('frequency') #label the y axis\n",
    "plt.title('Histogram of class heights') #give it a title"
   ]
  },
  {
   "cell_type": "markdown",
   "metadata": {},
   "source": [
    "What do we see? From all the individual data a pattern emerges!\n",
    "\n"
   ]
  },
  {
   "cell_type": "markdown",
   "metadata": {},
   "source": [
    "# Levels of descripton\n",
    "\n",
    "\"Level of description\" means the detail in which you choose to describe a phenomenon\n",
    "\n",
    "Is a traffic jam about cars or about traffic? Obviously you can describe it at both levels. There are advantages to both.\n",
    "\n",
    "Is thinking about the group, the individual, or particular thoughts? All are relevant, which is why psychology is interesting.\n",
    "\n",
    "The level of description you choose to use affects the scientific questions you ask, and the answers you find when you investigate the brain.\n",
    "\n",
    "Notice how saying \"you're just a bunch of atoms\" is an argument that a lower level of description is better. Emergence shows us how a lower level of description can be more confusing, not more revealling!\n",
    "\n",
    "From \"high level\" to \"low level\":\n",
    "Culture\n",
    "Group\n",
    "Person\n",
    "Brain\n",
    "Brain circuits\n",
    "Neurons\n",
    "Cell components\n",
    "Atoms\n",
    "???\n"
   ]
  },
  {
   "cell_type": "markdown",
   "metadata": {},
   "source": [
    "# So, what is the right level of description if we want to build a model neuron?"
   ]
  },
  {
   "cell_type": "markdown",
   "metadata": {},
   "source": [
    "A hippocampal neurone filled with green fluorescent protein (GFP) and labelled for pre-synaptic (blue) and post-synaptic (red) structures\n",
    "Photo from Dr Philip Buttery\n",
    "http://www.neuroscience.cam.ac.uk/directory/profile.php?pcb10"
   ]
  },
  {
   "cell_type": "code",
   "execution_count": 16,
   "metadata": {
    "collapsed": false
   },
   "outputs": [
    {
     "data": {
      "text/html": [
       "<img src=\"http://www.neuroscience.cam.ac.uk/uploadedFiles/pcb10_phppYaWHE.jpg\" width=\"600\"/>"
      ],
      "text/plain": [
       "<IPython.core.display.Image object>"
      ]
     },
     "execution_count": 16,
     "metadata": {},
     "output_type": "execute_result"
    }
   ],
   "source": [
    "from IPython.display import Image\n",
    "from IPython.core.display import HTML \n",
    "Image(url= \"http://www.neuroscience.cam.ac.uk/uploadedFiles/pcb10_phppYaWHE.jpg\", width=600)\n"
   ]
  },
  {
   "cell_type": "markdown",
   "metadata": {
    "collapsed": true
   },
   "source": [
    "## Further reading\n",
    "\n",
    "\n",
    "Turtles, Termites, and Traffic Jams: Explorations in Massively Parallel Microworlds by Mitchel Resnick\n",
    "https://mitpress.mit.edu/books/turtles-termites-and-traffic-jams\n"
   ]
  }
 ],
 "metadata": {
  "kernelspec": {
   "display_name": "Python 2",
   "language": "python",
   "name": "python2"
  },
  "language_info": {
   "codemirror_mode": {
    "name": "ipython",
    "version": 2
   },
   "file_extension": ".py",
   "mimetype": "text/x-python",
   "name": "python",
   "nbconvert_exporter": "python",
   "pygments_lexer": "ipython2",
   "version": "2.7.9"
  }
 },
 "nbformat": 4,
 "nbformat_minor": 0
}
