{
 "cells": [
  {
   "cell_type": "markdown",
   "metadata": {},
   "source": [
    "# PSY105 Lecture 1: Emergence, levels of description and the brain"
   ]
  },
  {
   "cell_type": "markdown",
   "metadata": {},
   "source": []
  },
  {
   "cell_type": "markdown",
   "metadata": {},
   "source": [
    "This is a notebook, a way of looking at python code that shows comments (like this here) the code you run (below) and the results (below each piece of code).\n",
    "\n",
    "Python is a free programming language. This means you can compute things.\n",
    "\n",
    "Like this:"
   ]
  },
  {
   "cell_type": "code",
   "execution_count": 1,
   "metadata": {
    "collapsed": false
   },
   "outputs": [
    {
     "name": "stdout",
     "output_type": "stream",
     "text": [
      "14\n"
     ]
    }
   ],
   "source": [
    "print 1+13"
   ]
  },
  {
   "cell_type": "markdown",
   "metadata": {},
   "source": [
    "Programming languages work on assigning values to particular letter-words strings. These are called variables"
   ]
  },
  {
   "cell_type": "code",
   "execution_count": 3,
   "metadata": {
    "collapsed": false
   },
   "outputs": [
    {
     "name": "stdout",
     "output_type": "stream",
     "text": [
      "Hello Tom\n"
     ]
    }
   ],
   "source": [
    "my_name = \"Tom\"\n",
    "\n",
    "print \"Hello \" + my_name"
   ]
  },
  {
   "cell_type": "code",
   "execution_count": 4,
   "metadata": {
    "collapsed": false
   },
   "outputs": [
    {
     "name": "stdout",
     "output_type": "stream",
     "text": [
      "2\n"
     ]
    }
   ],
   "source": [
    "x=1\n",
    "\n",
    "print x+1"
   ]
  },
  {
   "cell_type": "markdown",
   "metadata": {},
   "source": [
    "This code converts your height in inches to your height in cm"
   ]
  },
  {
   "cell_type": "code",
   "execution_count": 5,
   "metadata": {
    "collapsed": false
   },
   "outputs": [
    {
     "name": "stdout",
     "output_type": "stream",
     "text": [
      "my height in inches = 72\n",
      "my height in cm = 182.88\n"
     ]
    }
   ],
   "source": [
    "#words behind a hashtag are comments\n",
    "\n",
    "#enter your information here\n",
    "my_height_feet=5\n",
    "my_height_inches=12\n",
    "\n",
    "#now convert feet and inches to just inches\n",
    "my_height_just_inches=my_height_feet*12 + my_height_inches\n",
    "print \"my height in inches = \" + str(my_height_just_inches)\n",
    "\n",
    "#now convert from inches to cm\n",
    "my_height_cm = my_height_just_inches * 2.54\n",
    "print \"my height in cm = \" + str(my_height_cm)"
   ]
  },
  {
   "cell_type": "markdown",
   "metadata": {},
   "source": [
    "# An example of emergence"
   ]
  },
  {
   "cell_type": "markdown",
   "metadata": {},
   "source": [
    "We are going to use http://shoutkey.com/ and a google docs spreadsheet to collect the heights (in centimeters) of everyone in the class. You can then copy/paste into the code below\n",
    "\n",
    "Find the spreadsheet by searching google docs for \"PSY105 Lab\" or here : https://docs.google.com/a/sheffield.ac.uk/spreadsheets/d/16_ADE4tIzWo4JKv3EaAxVV3YjduItLUCGlDr3e3Idik/edit?usp=sharing"
   ]
  },
  {
   "cell_type": "code",
   "execution_count": 1,
   "metadata": {
    "collapsed": false
   },
   "outputs": [
    {
     "name": "stdout",
     "output_type": "stream",
     "text": [
      "height data = [177.8, 163.83, 172.72, 160, 172.72, 182.88, 187.96, 172.72, 182.88, 157.48, 186.7, 172.72, 187.96, 162.56, 132.08, 169, 157, 175, 180.34, 168, 173.7]\n"
     ]
    }
   ],
   "source": [
    "''' (three apostrophes defines a block of comments)\n",
    "\n",
    "#This generates some random numbers if you just want to see the graph\n",
    "import numpy as np\n",
    "class_size=41\n",
    "h=np.random.randn(class_size)*6.1+162\n",
    "'''\n",
    "\n",
    "\n",
    "\n",
    "h=[177.8\t,\n",
    "163.83\t,\n",
    "172.72\t,\n",
    "160\t,\n",
    "172.72\t,\n",
    "182.88\t,\n",
    "187.96\t,\n",
    "172.72\t,\n",
    "182.88\t,\n",
    "157.48\t,\n",
    "186.7\t,\n",
    "172.72\t,\n",
    "187.96\t,\n",
    "162.56\t,\n",
    "132.08\t,\n",
    "169\t,\n",
    "157\t,\n",
    "175\t,\n",
    "180.34\t,\n",
    "168\t,\n",
    "173.7\t]\n",
    "\n",
    "print \"height data = \" + str(h)"
   ]
  },
  {
   "cell_type": "code",
   "execution_count": 2,
   "metadata": {
    "collapsed": false
   },
   "outputs": [
    {
     "data": {
      "text/plain": [
       "<matplotlib.text.Text at 0x7fc823ce5b90>"
      ]
     },
     "execution_count": 2,
     "metadata": {},
     "output_type": "execute_result"
    },
    {
     "data": {
      "image/png": "[encoded data removed]",
      "text/plain": [
       "<matplotlib.figure.Figure at 0x7fc823d63fd0>"
      ]
     },
     "metadata": {},
     "output_type": "display_data"
    }
   ],
   "source": [
    "#In python if you want to do something complicated, you often import some new commands (called a library)\n",
    "\n",
    "import pylab as plt #get graph plotting commands\n",
    "#draw graphs in this notebook rather than in separate windows\n",
    "%matplotlib inline \n",
    "\n",
    "plt.hist(h) #draw a histrogram\n",
    "plt.xlabel('height') #label the x axis\n",
    "plt.ylabel('frequency') #label the y axis\n",
    "plt.title('Histogram of class heights') #give it a title"
   ]
  },
  {
   "cell_type": "markdown",
   "metadata": {},
   "source": [
    "What do we see? From all the individual data a pattern emerges!\n",
    "\n"
   ]
  },
  {
   "cell_type": "markdown",
   "metadata": {},
   "source": [
    "# Levels of descripton\n",
    "\n",
    "\"Level of description\" means the detail in which you choose to describe a phenomenon\n",
    "\n",
    "Is a traffic jam about cars or about traffic? Obviously you can describe it at both levels. There are advantages to both.\n",
    "\n",
    "Is thinking about the group, the individual, or particular thoughts? All are relevant, which is why psychology is interesting.\n",
    "\n",
    "The level of description you choose to use affects the scientific questions you ask, and the answers you find when you investigate the brain.\n",
    "\n",
    "Notice how saying \"you're just a bunch of atoms\" is an argument that a lower level of description is better. Emergence shows us how a lower level of description can be more confusing, not more revealling!\n",
    "\n",
    "From \"high level\" to \"low level\":  \n",
    "Culture  \n",
    "Group  \n",
    "Person  \n",
    "Brain  \n",
    "Brain circuits  \n",
    "Neurons  \n",
    "Cell components  \n",
    "Atoms  \n",
    "???  \n"
   ]
  },
  {
   "cell_type": "markdown",
   "metadata": {},
   "source": [
    "# So, what is the right level of description if we want to build a model neuron?"
   ]
  },
  {
   "cell_type": "markdown",
   "metadata": {},
   "source": [
    "A hippocampal neurone filled with green fluorescent protein (GFP) and labelled for pre-synaptic (blue) and post-synaptic (red) structures\n",
    "Photo from Dr Philip Buttery\n",
    "http://www.neuroscience.cam.ac.uk/directory/profile.php?pcb10"
   ]
  },
  {
   "cell_type": "code",
   "execution_count": 8,
   "metadata": {
    "collapsed": false
   },
   "outputs": [
    {
     "data": {
      "text/html": [
       "<img src=\"http://www.neuroscience.cam.ac.uk/uploadedFiles/pcb10_phppYaWHE.jpg\" width=\"600\"/>"
      ],
      "text/plain": [
       "<IPython.core.display.Image object>"
      ]
     },
     "execution_count": 8,
     "metadata": {},
     "output_type": "execute_result"
    }
   ],
   "source": [
    "from IPython.display import Image\n",
    "from IPython.core.display import HTML \n",
    "Image(url= \"http://www.neuroscience.cam.ac.uk/uploadedFiles/pcb10_phppYaWHE.jpg\", width=600)\n"
   ]
  },
  {
   "cell_type": "markdown",
   "metadata": {
    "collapsed": true
   },
   "source": [
    "## Further reading\n",
    "\n",
    "\n",
    "Turtles, Termites, and Traffic Jams: Explorations in Massively Parallel Microworlds by Mitchel Resnick\n",
    "https://mitpress.mit.edu/books/turtles-termites-and-traffic-jams\n"
   ]
  }
 ],
 "metadata": {
  "kernelspec": {
   "display_name": "Python 2",
   "language": "python",
   "name": "python2"
  },
  "language_info": {
   "codemirror_mode": {
    "name": "ipython",
    "version": 2
   },
   "file_extension": ".py",
   "mimetype": "text/x-python",
   "name": "python",
   "nbconvert_exporter": "python",
   "pygments_lexer": "ipython2",
   "version": "2.7.9"
  }
 },
 "nbformat": 4,
 "nbformat_minor": 0
}
