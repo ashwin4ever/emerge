{
 "cells": [
  {
   "cell_type": "markdown",
   "metadata": {},
   "source": [
    "#Hopfield networks"
   ]
  },
  {
   "cell_type": "markdown",
   "metadata": {},
   "source": [
    "Now we arrive at the culmination of our efforts. In the first three weeks we grappled with the fundamentals needed to bring us to this point.\n",
    "\n",
    "First, we discussed the necessary concepts of emergence: how interesting properties of a system can result from the interaction of the parts of that system. It is essential, that we pay attention to both the (low level) details of how a system works, and the (high level) details of what a system does as its overall function. Neuroscientists care about the brain. Psychologists care about the mind. We care about understanding both.\n",
    "\n",
    "Second, we looked at the fundamental unit of brain function, the single unit. We saw how we could model these units as simple information processors. As well as being an elegant simplification of much biological detail, this perspective also allows us to unit brain function with the universe of computation. Why is the brain like it is? Because it's primary job is collectin and passing on signals.\n",
    "\n",
    "Third, we explored a mechanism for changing the connection strength (weight) between neurons: Hebb's Rule. We saw how this rule allows weights between neurons to encode co-occurance or correlation between their activities. If neuron activity is tied to events in the real world, then the weights will come to reflect the strength of association between those events. \n",
    "\n",
    "This final fact means that networks of neurons can act in ways where they seem to make predictions, where they have expectations about what is connected to what in the world. Networks of neurons, networks we can model, can be shown to have something like beliefs or memories. These are unlike beliefs or memories humans have, since they don't come with the ability to experience or feel, but maybe they can tell us something about how our own memories are generated..."
   ]
  },
  {
   "cell_type": "markdown",
   "metadata": {},
   "source": [
    "So far we have discussed emergence - complex phenomenona produced by the interaction of simple elements. Could it be that the simple elements of our brain (neurons) produce the complex phenomena of our minds (psychological functions)? The synthetic approach to this question is to try and build networks model neurons and see what they can do. Are the results anything like how our minds work?\n",
    "\n",
    "Our models make the assumption that neurons are information processors: they take in signals, combine them, and pass them on according to a shared set of rules. A key part of this rule-set is that incoming information - the inputs - are multiplied by weights. The Hebb rule provides a biologically plausible mechanism by which weights between neurons change, allowing the network to encode associations between signals.\n",
    "\n",
    "In this lecture, we're going to connect up many simple neurons in a thing called a Hopfield Network. It uses the principles we have already covered for the individual elements, but when we build a network of those elements something interesting happens, something with profound implications for how we think about the mind"
   ]
  },
  {
   "cell_type": "markdown",
   "metadata": {},
   "source": [
    "We are going to create a run a network of model neurons called a Hopfield Network. "
   ]
  },
  {
   "cell_type": "code",
   "execution_count": 133,
   "metadata": {
    "collapsed": false
   },
   "outputs": [
    {
     "data": {
      "text/html": [
       "<iframe src=http://www.scholarpedia.org/article/Hopfield_network width=1000 height=350></iframe>"
      ],
      "text/plain": [
       "<IPython.core.display.HTML object>"
      ]
     },
     "execution_count": 133,
     "metadata": {},
     "output_type": "execute_result"
    }
   ],
   "source": [
    "from IPython.display import HTML\n",
    "HTML('<iframe src=http://www.scholarpedia.org/article/Hopfield_network width=1000 height=350></iframe>')\n"
   ]
  },
  {
   "cell_type": "code",
   "execution_count": 102,
   "metadata": {
    "collapsed": true
   },
   "outputs": [],
   "source": [
    "'''\n",
    "The code for running the Hopfield network is taken from this guy. Thanks NAME!\n",
    "http://codeaffectionate.blogspot.co.uk/2013/05/fun-with-hopfield-and-numpy.html\n",
    "\n",
    "This will be the most complex code we have run so far, but it uses the basic principles we have already covered. \n",
    "The difference is that we now have a network of hundreds of model neurons, not just one or two\n",
    "\n",
    "'''\n",
    "\n",
    "#Import libraries we will use. \n",
    "# - remember, libraries are sets of functions we want to use in our code\n",
    "# - functions are reusable sets of commands that do important tasks. \n",
    "\n",
    "import numpy as np #maths functions in python\n",
    "import socket #to get host machine identity\n",
    "import os # for joining paths and filenames sensibly\n",
    "import glob #for finding files\n",
    "import pylab as plt #graphing functions\n",
    "\n",
    "#draw graphs in this notebook rather than in separate windows\n",
    "%matplotlib inline\n"
   ]
  },
  {
   "cell_type": "code",
   "execution_count": 103,
   "metadata": {
    "collapsed": false
   },
   "outputs": [],
   "source": [
    "#previously we have also defined our own functions\n",
    "#We're going to do that a lot here. \n",
    "#You don't need to follow each line of code, but do read the first line (the comment) which says what the code does\n",
    "\n",
    "def from_jpg(name):\n",
    "    #This function takes image files and converts them into a patter of numbers\n",
    "    #We can then use this pattern of numbers to teach the Hopfield Network\n",
    "    #need to make this so it forces square shape\n",
    "    from PIL import Image\n",
    "    size=40,40\n",
    "    im = Image.open(name).convert('L')\n",
    "    im.thumbnail(size, Image.ANTIALIAS)\n",
    "    vals=np.array(im.getdata())\n",
    "    sgn = np.vectorize(lambda x: -1 if x<(255/2) else +1)\n",
    "    return sgn(vals)\n",
    "\n",
    "def to_pattern(letter):\n",
    "    #This converts string to -1/+1 array\n",
    "    from numpy import array\n",
    "    return array([+1 if c=='X' else -1 for c in letter.replace('\\n','')])\n",
    "    \n",
    "def display(pattern):\n",
    "    #This shows a pattern of numbers as an image\n",
    "    # - i.e it is the reverse of the 'from_jpg' function\n",
    "    from pylab import imshow, cm, show\n",
    "    side=int(np.sqrt(len(pattern)))    \n",
    "    imshow(pattern.reshape((side,side)),cmap=cm.binary, interpolation='nearest')\n",
    "    show()\n",
    "\n",
    "def train(patterns):\n",
    "    #This trains a network to remember the patterns it is given\n",
    "    # - since it is important I'll comment each line\n",
    "    from numpy import zeros, outer, diag_indices  #import functions for vector calculus\n",
    "    r,c = patterns.shape #take the patters and make them vectors. There is a neuron for each pixel in the patterns\n",
    "    W = zeros((c,c)) #there is a weight between each neuron in the network\n",
    "    for p in patterns: # for each pattern\n",
    "        W = W + outer(p,p) # change the weights to reflect the correlation between pixels\n",
    "    W[diag_indices(c)] = 0 # neurons are not connected to themselves (ie the weight is 0)\n",
    "    return W/r #send back the normalised weights\n",
    "    \n",
    "def recall(W, patterns, steps=5):\n",
    "    #The tests the network. You give it a patter and see what it produces\n",
    "    from numpy import vectorize, dot #vector calculus functions\n",
    "    sgn = vectorize(lambda x: -1 if x<0 else +1) # convert input pattern into a -1/+1 pattern\n",
    "    for _ in xrange(steps): #over a number of iterations (defined by 'steps')    \n",
    "        patterns = sgn(dot(patterns,W)) #adjust the neuron activity to reflect the weights\n",
    "    return patterns #return the final pattern\n",
    "    \n",
    "\n",
    "def degrade(patterns,noise):\n",
    "    #This allows you to add noise to a pattern\n",
    "    sgn=np.vectorize(lambda x: x*-1 if np.random.random()<noise else x)\n",
    "    out=sgn(patterns)\n",
    "    return out\n",
    "\n",
    "def makepartial(p,proportion):\n",
    "    u=int(proportion*len(p))\n",
    "    new_p=p\n",
    "    new_p[:u]=-1\n",
    "    return new_p\n",
    "    "
   ]
  },
  {
   "cell_type": "code",
   "execution_count": null,
   "metadata": {
    "collapsed": false
   },
   "outputs": [],
   "source": []
  },
  {
   "cell_type": "markdown",
   "metadata": {},
   "source": [
    "We could train our Hopfiel network on any pattern. The neurons could be connected to any event, could represent any information. It is easiest to use visual patterns, though. Imagine that these are neurons which are connected to your visual system, so their activity normally reflects patterns of light and dark. What is another word for a pattern of light and dark? A picture!\n",
    "\n",
    "So, first we need some pictures for our network to learn"
   ]
  },
  {
   "cell_type": "code",
   "execution_count": 104,
   "metadata": {
    "collapsed": true
   },
   "outputs": [],
   "source": [
    "#get files from somewhere. How will this work in a notebook??\n",
    "files = glob.glob(os.path.join('patterns','*.jpg')) #where are the patterns stored?\n",
    "\n",
    "#from these files, define patterns of numbers\n",
    "patterns=np.array([from_jpg(p) for p in files]) #put individual patterns in array\n",
    "\n",
    "#remember how large the patterns are\n",
    "side=int(np.sqrt(len(patterns[0]))) #assume all patterns the same shape\n"
   ]
  },
  {
   "cell_type": "markdown",
   "metadata": {},
   "source": [
    "Let's have a look at our patterns"
   ]
  },
  {
   "cell_type": "code",
   "execution_count": 105,
   "metadata": {
    "collapsed": false
   },
   "outputs": [
    {
     "ename": "NameError",
     "evalue": "name 'patten' is not defined",
     "output_type": "error",
     "traceback": [
      "\u001b[1;31m---------------------------------------------------------------------------\u001b[0m",
      "\u001b[1;31mNameError\u001b[0m                                 Traceback (most recent call last)",
      "\u001b[1;32m<ipython-input-105-3c10cdc93bdb>\u001b[0m in \u001b[0;36m<module>\u001b[1;34m()\u001b[0m\n\u001b[1;32m----> 1\u001b[1;33m \u001b[1;32mprint\u001b[0m \u001b[0mpatten\u001b[0m\u001b[1;33m\u001b[0m\u001b[0m\n\u001b[0m",
      "\u001b[1;31mNameError\u001b[0m: name 'patten' is not defined"
     ]
    }
   ],
   "source": [
    "print patten"
   ]
  },
  {
   "cell_type": "code",
   "execution_count": null,
   "metadata": {
    "collapsed": false
   },
   "outputs": [],
   "source": [
    "# Four axes, returned as a 2-d array\n",
    "f, axarr = plt.subplots(1,len(patterns))\n",
    "\n",
    "for p in range(len(patterns)):\n",
    "    #axarr[0, p].imshow(patterns[p].reshape((side,side)),cmap=cm.binary, interpolation='nearest')\n",
    "    axarr[p].imshow(patterns[p].reshape((side,side)))\n",
    "    #axarr[0, p].set_title('Cue' + str(p))\n",
    "    \n",
    "# Fine-tune figure; hide x ticks for top plots and y ticks for right plots\n",
    "plt.setp([a.get_xticklabels() for a in axarr[:]], visible=False)\n",
    "plt.setp([a.get_yticklabels() for a in axarr[:]], visible=False)\n",
    "plt.suptitle('Our training patterns')\n",
    "plt.savefig('trainingpatterns.png') #save a file\n"
   ]
  },
  {
   "cell_type": "markdown",
   "metadata": {},
   "source": [
    "The Hopfield Network learns patterns of association. In this case, the association is between pixels in the images."
   ]
  },
  {
   "cell_type": "code",
   "execution_count": null,
   "metadata": {
    "collapsed": false
   },
   "outputs": [],
   "source": [
    "print \"train weights\"\n",
    "\n",
    "W = train(patterns) \n"
   ]
  },
  {
   "cell_type": "markdown",
   "metadata": {},
   "source": [
    "We have defined a network which has 'learnt' associations between pixels. Now the fun begins. We can explore the emergent properties of this network to see just what networks of simple neurons can do. We can ask if the way the Hopfield network behaves has any lessons to teach us about human memory."
   ]
  },
  {
   "cell_type": "markdown",
   "metadata": {},
   "source": [
    "#simple recall\n",
    "\n",
    "In the graph below the first row shows the pattern the network is shown (the starting activity). The second row shows the pattern of activity after the neurons are allowed to send signals back and forth"
   ]
  },
  {
   "cell_type": "code",
   "execution_count": null,
   "metadata": {
    "collapsed": false
   },
   "outputs": [],
   "source": [
    "print \"test with originals\"\n",
    "\n",
    "# Four axes, returned as a 2-d array\n",
    "f, axarr = plt.subplots(2, len(patterns))\n",
    "\n",
    "for p in range(len(patterns)):\n",
    "    #axarr[0, p].imshow(patterns[p].reshape((side,side)),cmap=cm.binary, interpolation='nearest')\n",
    "    axarr[0, p].imshow(patterns[p].reshape((side,side)))\n",
    "    axarr[0, p].set_title('Cue' + str(p))\n",
    "    #axarr[1, p].imshow(recall(W,patterns)[p].reshape((side,side)),cmap=cm.binary, interpolation='nearest')\n",
    "    axarr[1, p].imshow(recall(W,patterns)[p].reshape((side,side)))\n",
    "    axarr[1, p].set_title('Recall' + str(p))\n",
    "# Fine-tune figure; hide x ticks for top plots and y ticks for right plots\n",
    "plt.setp([a.get_xticklabels() for a in axarr[0, :]], visible=False)\n",
    "plt.setp([a.get_xticklabels() for a in axarr[1, :]], visible=False)\n",
    "plt.setp([a.get_yticklabels() for a in axarr[:, 0]], visible=False)\n",
    "plt.setp([a.get_yticklabels() for a in axarr[:, 1]], visible=False)\n",
    "plt.suptitle('Test with training patterns')\n",
    "plt.savefig('fullcue.png')\n"
   ]
  },
  {
   "cell_type": "markdown",
   "metadata": {},
   "source": [
    "They should match. Graphically this isn't very interesting, but it means that the network doesn't move away from the pattern it is shown if it has been trained it before. Is this something like what our memories do when we recognise something?"
   ]
  },
  {
   "cell_type": "markdown",
   "metadata": {},
   "source": [
    "#Recognition with noisy inputs\n",
    "\n",
    "You can recognise a face you've seen before in a new circumstances. You can recognise someone on a dark night, in the rain, even if they've changed their haircut. What does this mean to our network? Well, we can't give our patterns makeup, but we can alter them at random and see what how our network responds'"
   ]
  },
  {
   "cell_type": "code",
   "execution_count": null,
   "metadata": {
    "collapsed": false
   },
   "outputs": [],
   "source": [
    "noise=0.1\n",
    "\n",
    "print \"degrade patterns with noise\"\n",
    "testpatterns=degrade(patterns,noise)\n",
    "\n",
    "# Four axes, returned as a 2-d array\n",
    "f, axarr = plt.subplots(2, len(patterns))\n",
    "\n",
    "for p in range(len(testpatterns)):\n",
    "    #axarr[0, p].imshow(patterns[p].reshape((side,side)),cmap=cm.binary, interpolation='nearest')\n",
    "    axarr[0, p].imshow(testpatterns[p].reshape((side,side)))\n",
    "    axarr[0, p].set_title('Cue' + str(p))\n",
    "    #axarr[1, p].imshow(recall(W,patterns)[p].reshape((side,side)),cmap=cm.binary, interpolation='nearest')\n",
    "    axarr[1, p].imshow(recall(W,testpatterns)[p].reshape((side,side)))\n",
    "    axarr[1, p].set_title('Recall' + str(p))\n",
    "# Fine-tune figure; hide x ticks for top plots and y ticks for right plots\n",
    "plt.setp([a.get_xticklabels() for a in axarr[0, :]], visible=False)\n",
    "plt.setp([a.get_xticklabels() for a in axarr[1, :]], visible=False)\n",
    "plt.setp([a.get_yticklabels() for a in axarr[:, 0]], visible=False)\n",
    "plt.setp([a.get_yticklabels() for a in axarr[:, 1]], visible=False)\n",
    "plt.suptitle('Test with noisy cue')\n",
    "plt.savefig('noisycue.png')\n"
   ]
  },
  {
   "cell_type": "markdown",
   "metadata": {},
   "source": [
    "In the cell above the amount of noise is defined as 0.1. That's 10% of pixels randomly switched. What happens if you change that number? How is the system responding?"
   ]
  },
  {
   "cell_type": "markdown",
   "metadata": {},
   "source": [
    "What you are seeing is sometimes called 'graceful degredation'. That means that the system fails gradually - it doesn't need the exact right inputs to guess the right pattern. Consider:\n",
    "\n",
    "Yuo nca unredstnad thsi\n",
    "\n",
    "Human information processing is often very good at coping with noisy inputs. Computers, not so much.\n"
   ]
  },
  {
   "cell_type": "code",
   "execution_count": null,
   "metadata": {
    "collapsed": true
   },
   "outputs": [],
   "source": [
    "#Recognition from partial cues"
   ]
  },
  {
   "cell_type": "code",
   "execution_count": 131,
   "metadata": {
    "collapsed": false
   },
   "outputs": [
    {
     "name": "stdout",
     "output_type": "stream",
     "text": [
      "test with partial cues\n",
      "[-1344, -1282, -1596]\n",
      "[-1344, -1282, -1596]\n"
     ]
    }
   ],
   "source": [
    "print\"test with partial cues\"\n",
    "\n",
    "proportion=0.5\n",
    "   \n",
    "testpatterns=[makepartial(p,proportion) for p in patterns]\n",
    "b=[makepartial(p,0.1) for p in patterns]\n",
    "c=[makepartial(p,0.9) for p in patterns]\n",
    "\n",
    "print [sum(p) for p in b]\n",
    "print [sum(p) for p in c]"
   ]
  },
  {
   "cell_type": "code",
   "execution_count": 132,
   "metadata": {
    "collapsed": false
   },
   "outputs": [
    {
     "data": {
      "image/png": "[encoded data removed]",
      "text/plain": [
       "<matplotlib.figure.Figure at 0xb6f6442c>"
      ]
     },
     "metadata": {},
     "output_type": "display_data"
    }
   ],
   "source": [
    "# Four axes, returned as a 2-d array\n",
    "f, axarr = plt.subplots(2, len(testpatterns))\n",
    "\n",
    "for p in range(len(testpatterns)):\n",
    "    #axarr[0, p].imshow(patterns[p].reshape((side,side)),cmap=cm.binary, interpolation='nearest')\n",
    "    axarr[0, p].imshow(testpatterns[p].reshape((side,side)))\n",
    "    axarr[0, p].set_title('Cue' + str(p))\n",
    "    #axarr[1, p].imshow(recall(W,patterns)[p].reshape((side,side)),cmap=cm.binary, interpolation='nearest')\n",
    "    axarr[1, p].imshow(recall(W,testpatterns)[p].reshape((side,side)))\n",
    "    axarr[1, p].set_title('Recall' + str(p))\n",
    "# Fine-tune figure; hide x ticks for top plots and y ticks for right plots\n",
    "plt.setp([a.get_xticklabels() for a in axarr[0, :]], visible=False)\n",
    "plt.setp([a.get_xticklabels() for a in axarr[1, :]], visible=False)\n",
    "plt.setp([a.get_yticklabels() for a in axarr[:, 0]], visible=False)\n",
    "plt.setp([a.get_yticklabels() for a in axarr[:, 1]], visible=False)\n",
    "plt.suptitle('Test with partial cue')\n",
    "plt.savefig('partialcue.png')"
   ]
  },
  {
   "cell_type": "markdown",
   "metadata": {},
   "source": [
    "So the network can recover the patterns it was trained on from a partial cue. Compare to how you can remember someone's name from their face, or the answer to the question \"what is the capital of France?\"\n",
    "\n",
    "What happens as you change the amount of the original pattern that is removed?"
   ]
  },
  {
   "cell_type": "code",
   "execution_count": 124,
   "metadata": {
    "collapsed": false
   },
   "outputs": [
    {
     "name": "stdout",
     "output_type": "stream",
     "text": [
      "[-960, -988, -1560]\n"
     ]
    }
   ],
   "source": []
  },
  {
   "cell_type": "code",
   "execution_count": null,
   "metadata": {
    "collapsed": true
   },
   "outputs": [],
   "source": []
  },
  {
   "cell_type": "code",
   "execution_count": null,
   "metadata": {
    "collapsed": true
   },
   "outputs": [],
   "source": []
  }
 ],
 "metadata": {
  "kernelspec": {
   "display_name": "Python 2",
   "language": "python",
   "name": "python2"
  },
  "language_info": {
   "codemirror_mode": {
    "name": "ipython",
    "version": 2
   },
   "file_extension": ".py",
   "mimetype": "text/x-python",
   "name": "python",
   "nbconvert_exporter": "python",
   "pygments_lexer": "ipython2",
   "version": "2.7.10"
  }
 },
 "nbformat": 4,
 "nbformat_minor": 0
}
