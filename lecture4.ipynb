{
 "cells": [
  {
   "cell_type": "markdown",
   "metadata": {},
   "source": [
    "#PSY105 Lecture 4: The Hopfield Network\n",
    "\n",
    "So far we have discussed emergence - complex phenomenona produced by the interaction of simple elements. Could it be that the simple elements of our brain (neurons) produce the complex phenomena of our minds (psychological functions)? The synthetic approach to this question is to try and build networks model neurons and see what they can do. Are the results anything like how our minds work?\n",
    "\n",
    "of In our first lecture we discussed emergance in interacting systems. Could the mind emerge from a network of simple elements? In our second lecture we looked at simple models of neurons. These make the assumption that neurons are information processors: they take in signals, combine them, and pass them on according to a shared set of rules. A key part of this rule-set is that incoming information - the inputs - are multiplied by weights.\n",
    "\n",
    "In this lecture, we'll look at a simple process that is capable of adjusting the weights between two neurons: The Hebb Rule."
   ]
  }
 ],
 "metadata": {
  "kernelspec": {
   "display_name": "Python 2",
   "language": "python",
   "name": "python2"
  },
  "language_info": {
   "codemirror_mode": {
    "name": "ipython",
    "version": 2
   },
   "file_extension": ".py",
   "mimetype": "text/x-python",
   "name": "python",
   "nbconvert_exporter": "python",
   "pygments_lexer": "ipython2",
   "version": "2.7.10"
  }
 },
 "nbformat": 4,
 "nbformat_minor": 0
}
