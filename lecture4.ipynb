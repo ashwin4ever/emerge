{
 "cells": [
  {
   "cell_type": "markdown",
   "metadata": {},
   "source": [
    "#PSY105 Lecture 4: The Hopfield Network\n",
    "\n",
    "So far we have discussed emergence - complex phenomenona produced by the interaction of simple elements. Could it be that the simple elements of our brain (neurons) produce the complex phenomena of our minds (psychological functions)? The synthetic approach to this question is to try and build networks model neurons and see what they can do. Are the results anything like how our minds work?\n",
    "\n",
    "Our models make the assumption that neurons are information processors: they take in signals, combine them, and pass them on according to a shared set of rules. A key part of this rule-set is that incoming information - the inputs - are multiplied by weights. The Hebb rule provides a biologically plausible mechanism by which weights between neurons change, allowing the network to encode associations between signals.\n",
    "\n",
    "In this lecture, we're going to connect up many simple neurons in a thing called a Hopfield Network. It uses the principles we have already covered for the individual elements, but when we build a network of those elements something interesting happens, something with profound implications for how we think about the mind.\n",
    "\n"
   ]
  },
  {
   "cell_type": "code",
   "execution_count": null,
   "metadata": {
    "collapsed": true
   },
   "outputs": [],
   "source": []
  }
 ],
 "metadata": {
  "kernelspec": {
   "display_name": "Python 2",
   "language": "python",
   "name": "python2"
  },
  "language_info": {
   "codemirror_mode": {
    "name": "ipython",
    "version": 2
   },
   "file_extension": ".py",
   "mimetype": "text/x-python",
   "name": "python",
   "nbconvert_exporter": "python",
   "pygments_lexer": "ipython2",
   "version": "2.7.9"
  }
 },
 "nbformat": 4,
 "nbformat_minor": 0
}
