{
 "cells": [
  {
   "cell_type": "markdown",
   "metadata": {},
   "source": [
    "#Assignment example"
   ]
  },
  {
   "cell_type": "markdown",
   "metadata": {},
   "source": [
    "The assignment is to describe in as much detail as possible how you would explore this Hopfield model of human memory\n",
    "\n",
    "You <b>must</b> be clear on how psychological concepts and biological properties are reflected in what you propose to do with the model.\n",
    "\n",
    "You do not have to write any code, but you will receive bonus marks if you attempt this\n",
    "\n",
    "Example:\n",
    "\n",
    "Not good:\n",
    "\n",
    "I will test the network by presenting noisy examples of the patterns it has learnt\n",
    "\n",
    "Good:\n",
    "\n",
    "I will test the network by presenting noisy examples of the patterns it has learnt. These noisy patterns will be created by altering 10% of the pixels in each pattern to the opposite"
   ]
  }
 ],
 "metadata": {
  "kernelspec": {
   "display_name": "Python 2",
   "language": "python",
   "name": "python2"
  },
  "language_info": {
   "codemirror_mode": {
    "name": "ipython",
    "version": 2
   },
   "file_extension": ".py",
   "mimetype": "text/x-python",
   "name": "python",
   "nbconvert_exporter": "python",
   "pygments_lexer": "ipython2",
   "version": "2.7.6"
  }
 },
 "nbformat": 4,
 "nbformat_minor": 0
}
