{
 "cells": [
  {
   "cell_type": "markdown",
   "metadata": {},
   "source": [
    "# Assignment example"
   ]
  },
  {
   "cell_type": "markdown",
   "metadata": {},
   "source": [
    "The assignment is to describe in as much detail as possible how you would explore this Hopfield model of human memory\n",
    "\n",
    "You <b>must</b> be clear on how psychological concepts and biological properties are reflected in what you propose to do with the model.\n",
    "\n",
    "You do not have to write any code, but you will receive bonus marks if you attempt this"
   ]
  },
  {
   "cell_type": "markdown",
   "metadata": {},
   "source": [
    "Example:\n",
    "\n",
    "Not good (because under-specified):\n",
    "\n",
    "I will test the network by presenting noisy examples of the patterns it has learnt."
   ]
  },
  {
   "cell_type": "markdown",
   "metadata": {},
   "source": [
    "Good (because well specified):\n",
    "\n",
    "I will test the network by presenting noisy examples of the patterns it has learnt. These noisy patterns will be created by altering 10% of the pixels in each pattern to the opposite"
   ]
  },
  {
   "cell_type": "code",
   "execution_count": null,
   "metadata": {
    "collapsed": true
   },
   "outputs": [],
   "source": [
    "Also good (because well specified):\n",
    "\n",
    "I will test the network by presenting noisy examples of the patterns it has learnt. The function to generate these noisy patterns will be something like this:\n",
    "\n",
    "def degrade(patterns,noise):\n",
    "    #This allows you to add noise to a pattern\n",
    "    sgn=np.vectorize(lambda x: x*-1 if np.random.random()<noise else x)\n",
    "    out=sgn(patterns)\n",
    "    return out"
   ]
  },
  {
   "cell_type": "markdown",
   "metadata": {},
   "source": [
    "You must include these headings\n",
    "\n",
    "1. Feature of human memory\n",
    "2. Implementation in model\n",
    "3. Expectation of model behaviour\n",
    "4. Implication for human memory OR model-memory correspondance"
   ]
  },
  {
   "cell_type": "markdown",
   "metadata": {},
   "source": [
    "# Example answer"
   ]
  },
  {
   "cell_type": "markdown",
   "metadata": {},
   "source": [
    "## Feature of human memory"
   ]
  },
  {
   "cell_type": "markdown",
   "metadata": {},
   "source": [
    "## Implementation in model"
   ]
  },
  {
   "cell_type": "markdown",
   "metadata": {},
   "source": [
    "## Expectation of model behaviour"
   ]
  },
  {
   "cell_type": "markdown",
   "metadata": {},
   "source": [
    "## Implications"
   ]
  }
 ],
 "metadata": {
  "kernelspec": {
   "display_name": "Python 2",
   "language": "python",
   "name": "python2"
  },
  "language_info": {
   "codemirror_mode": {
    "name": "ipython",
    "version": 2
   },
   "file_extension": ".py",
   "mimetype": "text/x-python",
   "name": "python",
   "nbconvert_exporter": "python",
   "pygments_lexer": "ipython2",
   "version": "2.7.9"
  }
 },
 "nbformat": 4,
 "nbformat_minor": 0
}
