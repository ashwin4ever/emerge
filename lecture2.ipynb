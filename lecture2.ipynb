{
 "cells": [
  {
   "cell_type": "markdown",
   "metadata": {},
   "source": [
    "# PSY105 Lecture 2: The simple model neuron"
   ]
  },
  {
   "cell_type": "markdown",
   "metadata": {},
   "source": [
    "Previously we discussed emergence and levels of description. Lecture 1 ended with a question: what is the right level of description to model a neuron? \n",
    "\n",
    "There is no right answer, but one answer is that a neuron can be modelled simply as an information processor which receives signals and either passes a signal on, or doesn't. The first model neurons were described by Walter Pitts and Warren McCulloch in 1943.\n",
    "\n",
    "What complex cognitive functions might emerge when networks of such model neurons are created?"
   ]
  },
  {
   "cell_type": "code",
   "execution_count": 1,
   "metadata": {
    "collapsed": false
   },
   "outputs": [
    {
     "data": {
      "text/html": [
       "<iframe src=https://en.wikipedia.org/wiki/Artificial_neuron width=1000 height=350></iframe>"
      ],
      "text/plain": [
       "<IPython.core.display.HTML object>"
      ]
     },
     "execution_count": 1,
     "metadata": {},
     "output_type": "execute_result"
    }
   ],
   "source": [
    "from IPython.display import HTML\n",
    "HTML('<iframe src=https://en.wikipedia.org/wiki/Artificial_neuron width=1000 height=350></iframe>')"
   ]
  },
  {
   "cell_type": "markdown",
   "metadata": {},
   "source": [
    "Weights and inputs\n",
    "Output function\n",
    "Threshold\n",
    "Turing completeness\n"
   ]
  }
 ],
 "metadata": {
  "kernelspec": {
   "display_name": "Python 2",
   "language": "python",
   "name": "python2"
  },
  "language_info": {
   "codemirror_mode": {
    "name": "ipython",
    "version": 2
   },
   "file_extension": ".py",
   "mimetype": "text/x-python",
   "name": "python",
   "nbconvert_exporter": "python",
   "pygments_lexer": "ipython2",
   "version": "2.7.9"
  }
 },
 "nbformat": 4,
 "nbformat_minor": 0
}
