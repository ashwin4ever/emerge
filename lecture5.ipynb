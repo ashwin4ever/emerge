{
 "cells": [
  {
   "cell_type": "markdown",
   "metadata": {},
   "source": [
    "Interference\n",
    "\n",
    "Memory loss - degrade the weights\n",
    "\n",
    "prototype extraction\n",
    "\n",
    "- predict outcome\n",
    "- how would implement\n",
    "\n",
    "Two levels of description at once\n",
    "\n",
    "The assignment"
   ]
  },
  {
   "cell_type": "markdown",
   "metadata": {},
   "source": [
    "# Models of memory"
   ]
  },
  {
   "cell_type": "markdown",
   "metadata": {},
   "source": [
    "This is the claim: a neural network models of memory, which uses only the basic principles introduced in lectures 2 and 3, is a good account of human memory.\n",
    "\n",
    "How might we assess this claim?\n",
    "\n",
    "Our strategy is to pursue in parallel two lines of thought. We ask the same questions of both the model, as a memory system, and of human memory.\n",
    "\n",
    "How does human function? What are its charactertics properties? \n",
    "\n",
    "Does the model perform these functions? In what ways is it similar? In what way is it different?\n",
    "\n",
    "If we can convince ourselves that at least some aspects of human memory are captured by our neural network model, then we can leverage the ease with which we can explore the model to better understand memory. You can't reset the human mind, you can't train a human on only patterns you've defined, you can't rewire their neurons so only some are still connected -- but you can with a model."
   ]
  }
 ],
 "metadata": {
  "kernelspec": {
   "display_name": "Python 2",
   "language": "python",
   "name": "python2"
  },
  "language_info": {
   "codemirror_mode": {
    "name": "ipython",
    "version": 2
   },
   "file_extension": ".py",
   "mimetype": "text/x-python",
   "name": "python",
   "nbconvert_exporter": "python",
   "pygments_lexer": "ipython2",
   "version": "2.7.6"
  }
 },
 "nbformat": 4,
 "nbformat_minor": 0
}
