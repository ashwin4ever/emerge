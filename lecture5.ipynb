{
 "cells": [
  {
   "cell_type": "markdown",
   "metadata": {},
   "source": [
    "# Models of memory"
   ]
  },
  {
   "cell_type": "markdown",
   "metadata": {},
   "source": [
    "This is the claim: a neural network models of memory, which uses only the basic principles introduced in lectures 2 and 3, is a good account of human memory.\n",
    "\n",
    "How might we assess this claim?\n",
    "\n",
    "Our strategy is to pursue in parallel two lines of thought. We ask the same questions of both the model, as a memory system, and of human memory itself.\n",
    "\n",
    "How does human function? What are its charactertics properties? \n",
    "\n",
    "Does the model perform these functions? In what ways is it similar? In what way is it different?\n",
    "\n",
    "If we can convince ourselves that at least some aspects of human memory are captured by our neural network model, then we can leverage the ease with which we can explore the model to better understand memory. You can't reset the human mind, you can't train a human on only patterns you've defined, you can't rewire their neurons so only some are still connected -- but you can with a model."
   ]
  },
  {
   "cell_type": "markdown",
   "metadata": {},
   "source": [
    "# Memory function\n",
    "\n",
    "Here are some interesting features of human memory:\n",
    "\n",
    "* Noisy recall: you can remember based on unclear or 'noisy' information\n",
    "* Part-whole cuing: you can recall a memory based on a partial cue \n",
    "* Content addressable: you can recall a memory based on reminders about only components \n",
    "* Prototype extraction: if you see lots of variations on a theme you can form an impression of the underlying prototype upon which the variations are based\n",
    "* Generalisation: you can apply old memories in new situations, or form expectations about things you haven't encountered before based on patterns in what you have encountered before.\n",
    "* False memories: you can form memories which are incorrect (for examples of things that haven't happened)\n",
    "* Interference: old memories can interfere with learning new things, learning new things can interfere with old memories\n",
    "\n",
    "\n"
   ]
  },
  {
   "cell_type": "markdown",
   "metadata": {},
   "source": [
    "# Memory structure\n",
    "\n",
    "Here are some interesting features of the brain which relate to memory:\n",
    "\n",
    "* Connections between neurons are important\n",
    "* Brain damage can affect memory\n",
    "* There is no simple correspondance between location and memory\n",
    "* There are multiple parts of the brain involved in memory\n"
   ]
  },
  {
   "cell_type": "markdown",
   "metadata": {},
   "source": [
    "# Doing synthetic psychology\n",
    "\n",
    "\n",
    "The synthetic approach to psychology means building models which can perform psychological functions. Once you have a model you can use the model to make predictions about how the real world system works, or you can think about the real world to come up with tests of how the model should behave (and these tests will tell you if you have understood things correctly).\n",
    "\n",
    "For the example we've been developing on this course, this two directions of thought are:\n",
    "\n",
    "* Model -> predictions for human memory\n",
    "* Human memory -> tests of the model\n",
    "\n",
    "\n",
    "The scientific reasons you follow these two modes of thought are:\n",
    "\n",
    "* To establish correspondance between model and human memory: we want to show that our model is a good account of the thing we are trying to model. If we can do this, we have really understood the topic we're investigating\n",
    "* Explore the model to understand memory: if we are convinced the model corresponds to the reality of our system we are investigating, then we can explore how the model works and so learn about the system we are modelling\n",
    "* Understanding the problem: sometimes, the act of framing a scientific question in explicit terms (so it can be implemented in the model) helps us understand the problem better, even before we've done any actual modelling"
   ]
  },
  {
   "cell_type": "markdown",
   "metadata": {},
   "source": [
    "So for our current purposes, a synetetic psychology strategy would be:\n",
    "* Pick a feature of human memory\n",
    "* Think of a way of implementing in a model\n",
    "* Guess what model will do, and what that would mean"
   ]
  },
  {
   "cell_type": "markdown",
   "metadata": {},
   "source": [
    "# Some useful functions"
   ]
  },
  {
   "cell_type": "markdown",
   "metadata": {
    "collapsed": true
   },
   "source": [
    "Can be found in the lecture 4 notebook\n"
   ]
  },
  {
   "cell_type": "markdown",
   "metadata": {},
   "source": [
    "# Further reading (optional)\n",
    "\n",
    "Stafford, T. (2009) What use are computational models of cognitive processes? In Mayor, J., Ruh, N., & Plunkett, K. (2009). Connectionist Models of Behaviour and Cognition II: Proceedings of the 11th Neural Computation and Psychology Workshop. World Scientific. http://tomstafford.staff.shef.ac.uk/docs/stafford08_ncpw11.pdf"
   ]
  }
 ],
 "metadata": {
  "kernelspec": {
   "display_name": "Python 2",
   "language": "python",
   "name": "python2"
  },
  "language_info": {
   "codemirror_mode": {
    "name": "ipython",
    "version": 2
   },
   "file_extension": ".py",
   "mimetype": "text/x-python",
   "name": "python",
   "nbconvert_exporter": "python",
   "pygments_lexer": "ipython2",
   "version": "2.7.9"
  }
 },
 "nbformat": 4,
 "nbformat_minor": 0
}
