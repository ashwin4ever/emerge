{
 "metadata": {
  "kernelspec": {
   "display_name": "Python 2",
   "language": "python",
   "name": "python2"
  },
  "language_info": {
   "codemirror_mode": {
    "name": "ipython",
    "version": 2
   },
   "file_extension": ".py",
   "mimetype": "text/x-python",
   "name": "python",
   "nbconvert_exporter": "python",
   "pygments_lexer": "ipython2",
   "version": "2.7.9"
  },
  "name": ""
 },
 "nbformat": 3,
 "nbformat_minor": 0,
 "worksheets": [
  {
   "cells": [
    {
     "cell_type": "heading",
     "level": 1,
     "metadata": {},
     "source": [
      "PSY105 Lecture 2: The simple model neuron"
     ]
    },
    {
     "cell_type": "markdown",
     "metadata": {},
     "source": [
      "Previously we discussed emergence and levels of description. Lecture 1 ended with a question: what is the right level of description to model a neuron? \n",
      "\n",
      "There is no right answer, but one answer is that a neuron can be modelled simply as an information processor which receives signals and either passes a signal on, or doesn't. The first model neurons were described by Walter Pitts and Warren McCulloch in 1943.\n",
      "\n",
      "What complex cognitive functions might emerge when networks of such model neurons are created?"
     ]
    },
    {
     "cell_type": "code",
     "collapsed": false,
     "input": [
      "from IPython.display import HTML\n",
      "HTML('<iframe src=https://en.wikipedia.org/wiki/Artificial_neuron width=1000 height=350></iframe>')"
     ],
     "language": "python",
     "metadata": {},
     "outputs": [
      {
       "html": [
        "<iframe src=https://en.wikipedia.org/wiki/Artificial_neuron width=1000 height=350></iframe>"
       ],
       "metadata": {},
       "output_type": "pyout",
       "prompt_number": 74,
       "text": [
        "<IPython.core.display.HTML object>"
       ]
      }
     ],
     "prompt_number": 74
    },
    {
     "cell_type": "markdown",
     "metadata": {},
     "source": [
      "Before we can build a network of model neurons, we need to decide on a simple definition for a single model neuron. Here are some features of a neuron. Which shall we include?\n",
      "\n",
      "A cell body containing mitrocontria  \n",
      "Produces action potentials (travelling waves of electrical charge)  \n",
      "Dendrites (incoming wires)  \n",
      "Axon (outgoing wire)  \n",
      "Synapses (junctions between cells)  \n",
      "Very small  \n",
      "Has a fatty layer (myelin sheath) around the axon  \n",
      "\n",
      "The answer is that we should include the ones that are relevant to its function as an information processor. "
     ]
    },
    {
     "cell_type": "code",
     "collapsed": false,
     "input": [
      "from IPython.display import Image\n",
      "Image(url= \"https://upload.wikimedia.org/wikipedia/commons/0/08/Neuronal_Synapse.jpg\", width=600)\n",
      "\n"
     ],
     "language": "python",
     "metadata": {},
     "outputs": [
      {
       "html": [
        "<img src=\"https://upload.wikimedia.org/wikipedia/commons/0/08/Neuronal_Synapse.jpg\" width=\"600\"/>"
       ],
       "metadata": {},
       "output_type": "pyout",
       "prompt_number": 75,
       "text": [
        "<IPython.core.display.Image object>"
       ]
      }
     ],
     "prompt_number": 75
    },
    {
     "cell_type": "code",
     "collapsed": false,
     "input": [
      "Image(url= \"https://upload.wikimedia.org/wikipedia/commons/b/b4/1222_Action_Potential_Labels.jpg\", width=600)\n"
     ],
     "language": "python",
     "metadata": {},
     "outputs": [
      {
       "html": [
        "<img src=\"https://upload.wikimedia.org/wikipedia/commons/b/b4/1222_Action_Potential_Labels.jpg\" width=\"600\"/>"
       ],
       "metadata": {},
       "output_type": "pyout",
       "prompt_number": 76,
       "text": [
        "<IPython.core.display.Image object>"
       ]
      }
     ],
     "prompt_number": 76
    },
    {
     "cell_type": "code",
     "collapsed": true,
     "input": [
      "## The simplest model neuron?"
     ],
     "language": "python",
     "metadata": {},
     "outputs": [],
     "prompt_number": 77
    },
    {
     "cell_type": "code",
     "collapsed": false,
     "input": [
      " Image(url= \"http://tomstafford.staff.shef.ac.uk/teaching/psy105/tlu.png\", width=600)"
     ],
     "language": "python",
     "metadata": {},
     "outputs": [
      {
       "html": [
        "<img src=\"http://tomstafford.staff.shef.ac.uk/teaching/psy105/tlu.png\" width=\"600\"/>"
       ],
       "metadata": {},
       "output_type": "pyout",
       "prompt_number": 90,
       "text": [
        "<IPython.core.display.Image object>"
       ]
      }
     ],
     "prompt_number": 90
    },
    {
     "cell_type": "markdown",
     "metadata": {},
     "source": [
      "The simplest model neuron receives inputs from other neurons, and transmits an signal onwards in turn.\n",
      "Define a neuron's signal to be either \"on\" (value 1) or \"off\" (value 0).\n",
      "Each incoming signal is multiplied by a weight (another value, somewhere between -infinity and +infinity).\n",
      "Call the sum of weighted inputs the 'activity' of the neuron.\n",
      "The neuron has a firing threshold (another numerical value).\n",
      "If the activity is greater than the threshold the neuron fires (it's output is value 1 for all the neurons connected to it), otherwise it stays off (outut value 0).\n",
      "\n",
      "In code"
     ]
    },
    {
     "cell_type": "code",
     "collapsed": false,
     "input": [
      "#this neuron has three inputs, two which are off, one which is on\n",
      "inputs = [0, 1, 0]\n",
      "\n",
      "#each input is weighted\n",
      "weights = [2, -2, 0] #an excitatory connection, an inhibitory connection, a null connection\n",
      "\n",
      "#activity is the weighted sum of inputs\n",
      "from numpy import array #we use the array function to multiply lists together\n",
      "activity = sum(array(inputs)*array(weights))\n",
      "\n",
      "#define the threshold value\n",
      "threshold = 0 \n",
      "\n",
      "#compare activity and threshold to see if it fires or not\n",
      "if activity >= threshold:\n",
      "    output = 1\n",
      "else:\n",
      "    output = 0\n",
      "\n",
      "print \"inputs are : \" + str(inputs)\n",
      "print \"weights are: \" + str(weights)\n",
      "print \"ouput is...: \" + str(output)"
     ],
     "language": "python",
     "metadata": {},
     "outputs": [
      {
       "output_type": "stream",
       "stream": "stdout",
       "text": [
        "inputs are : [0, 1, 0]\n",
        "weights are: [2, -2, 0]\n",
        "ouput is...: 0\n"
       ]
      }
     ],
     "prompt_number": 78
    },
    {
     "cell_type": "markdown",
     "metadata": {},
     "source": [
      "# A side-note about functions\n",
      "\n",
      "Computer code is powerful because once you have worked out how to do something you can package the code up into a function, and then get the outputs direct from the inputs without having to think about the intervening steps again\n",
      "\n",
      "Doing this with our model neuron "
     ]
    },
    {
     "cell_type": "code",
     "collapsed": false,
     "input": [
      "def neuron(inputs,weights,threshold):\n",
      "    from numpy import array #we use the array function to multiply lists together\n",
      "    activity = sum(array(inputs)*array(weights))\n",
      "    #compare activity and threshold to see if it fires or not\n",
      "    if activity >= threshold:\n",
      "        output = 1\n",
      "    else:\n",
      "        output = 0\n",
      "        \n",
      "    return output\n",
      "\n",
      "#Now we can get the input by passing the neuron function our inputs, weights and the threshold\n",
      "\n",
      "print \"Output is \"\n",
      "neuron([0,1,0],[2,-2,0],0)"
     ],
     "language": "python",
     "metadata": {},
     "outputs": [
      {
       "output_type": "stream",
       "stream": "stdout",
       "text": [
        "Output is \n"
       ]
      },
      {
       "metadata": {},
       "output_type": "pyout",
       "prompt_number": 79,
       "text": [
        "0"
       ]
      }
     ],
     "prompt_number": 79
    },
    {
     "cell_type": "code",
     "collapsed": false,
     "input": [
      "#changing the inputs\n",
      "print \"Output is \"\n",
      "neuron([1,1,1],[2,-2,0],0)"
     ],
     "language": "python",
     "metadata": {},
     "outputs": [
      {
       "output_type": "stream",
       "stream": "stdout",
       "text": [
        "Output is \n"
       ]
      },
      {
       "metadata": {},
       "output_type": "pyout",
       "prompt_number": 80,
       "text": [
        "1"
       ]
      }
     ],
     "prompt_number": 80
    },
    {
     "cell_type": "code",
     "collapsed": false,
     "input": [
      "#changing the weights\n",
      "print \"Output is \"\n",
      "neuron([0,1,0],[2,2,2],0)"
     ],
     "language": "python",
     "metadata": {},
     "outputs": [
      {
       "output_type": "stream",
       "stream": "stdout",
       "text": [
        "Output is \n"
       ]
      },
      {
       "metadata": {},
       "output_type": "pyout",
       "prompt_number": 81,
       "text": [
        "1"
       ]
      }
     ],
     "prompt_number": 81
    },
    {
     "cell_type": "code",
     "collapsed": false,
     "input": [
      "#changing the threshold\n",
      "print \"Output is \"\n",
      "neuron([0,1,0],[2,-2,0],-10)\n"
     ],
     "language": "python",
     "metadata": {},
     "outputs": [
      {
       "output_type": "stream",
       "stream": "stdout",
       "text": [
        "Output is \n"
       ]
      },
      {
       "metadata": {},
       "output_type": "pyout",
       "prompt_number": 82,
       "text": [
        "1"
       ]
      }
     ],
     "prompt_number": 82
    },
    {
     "cell_type": "markdown",
     "metadata": {},
     "source": [
      "# a side note about output functions\n",
      "\n",
      "Most real neurons are also either \"on\" or \"off\" - they produce and action potential or not (\"firing\"). Howevever, neuroscientists believe that the rate at which they firing is important, and this can vary continuously between seldom firing or some maximal rate (approximately 50 times a second for cortical neurons).\n",
      "\n",
      "How would you change this model neuron so that it could produce outputs that varied continuously between 0 and 1?"
     ]
    },
    {
     "cell_type": "markdown",
     "metadata": {},
     "source": [
      "# Turing completeness\n",
      "\n",
      "Alan Turing was a genius of computer science, a pioneer in the theory of computers, in artificial intelligence and was pivotal in breaking the Nazi military codes during World War II. He committed suicide in 1954 after he was persecuted by the British government for his homosexuality."
     ]
    },
    {
     "cell_type": "code",
     "collapsed": false,
     "input": [
      "HTML('<iframe src=https://en.wikipedia.org/wiki/Alan_Turing width=1000 height=350></iframe>')"
     ],
     "language": "python",
     "metadata": {},
     "outputs": [
      {
       "html": [
        "<iframe src=https://en.wikipedia.org/wiki/Alan_Turing width=1000 height=350></iframe>"
       ],
       "metadata": {},
       "output_type": "pyout",
       "prompt_number": 83,
       "text": [
        "<IPython.core.display.HTML object>"
       ]
      }
     ],
     "prompt_number": 83
    },
    {
     "cell_type": "markdown",
     "metadata": {},
     "source": [
      "One of Turing's contributions was to show that networks of simple neurons, like the ones we have defined here, are - in principle - capable of performing any computation. Yes. Anything that can be computed - whether the decryption of a secret code, the precise way computer generated hair should wave in simulated wind or how much interest you owe on your student loan, can all, given enough time, be calculated with networks of these simple neurons.\n",
      "\n",
      "This property is known 'Turing completeness' \n",
      "https://en.wikipedia.org/wiki/Turing_completeness\n",
      "\n",
      "To get an insight into this, notice that you can use the weights on a neuron to make it act like a logic gate\n",
      "https://en.wikipedia.org/wiki/Logic_gate"
     ]
    },
    {
     "cell_type": "code",
     "collapsed": false,
     "input": [
      "#define weights and threshold so both inputs have to be on for the neuron to output\n",
      "weights = [0.5, 0.5] \n",
      "threshold = 1\n",
      "\n",
      "print \"inputs are both off, doesn't fire\"\n",
      "inputs=[0,0]\n",
      "neuron(inputs,weights,threshold)"
     ],
     "language": "python",
     "metadata": {},
     "outputs": [
      {
       "output_type": "stream",
       "stream": "stdout",
       "text": [
        "inputs are both off, doesn't fire\n"
       ]
      },
      {
       "metadata": {},
       "output_type": "pyout",
       "prompt_number": 84,
       "text": [
        "0"
       ]
      }
     ],
     "prompt_number": 84
    },
    {
     "cell_type": "code",
     "collapsed": false,
     "input": [
      "print \"one input is on, the other is off, doesn't fire\"\n",
      "inputs=[1,0]\n",
      "neuron(inputs,weights,threshold)"
     ],
     "language": "python",
     "metadata": {},
     "outputs": [
      {
       "output_type": "stream",
       "stream": "stdout",
       "text": [
        "one input is on, the other is off, doesn't fire\n"
       ]
      },
      {
       "metadata": {},
       "output_type": "pyout",
       "prompt_number": 85,
       "text": [
        "0"
       ]
      }
     ],
     "prompt_number": 85
    },
    {
     "cell_type": "code",
     "collapsed": false,
     "input": [
      "print \"one input is off, the other is on, doesn't fire\"\n",
      "inputs=[0,1]\n",
      "neuron(inputs,weights,threshold)"
     ],
     "language": "python",
     "metadata": {},
     "outputs": [
      {
       "output_type": "stream",
       "stream": "stdout",
       "text": [
        "one input is off, the other is on, doesn't fire\n"
       ]
      },
      {
       "metadata": {},
       "output_type": "pyout",
       "prompt_number": 86,
       "text": [
        "0"
       ]
      }
     ],
     "prompt_number": 86
    },
    {
     "cell_type": "code",
     "collapsed": false,
     "input": [
      "print \"if both inputs are on, fires\"\n",
      "inputs=[1,1]\n",
      "neuron(inputs,weights,threshold)"
     ],
     "language": "python",
     "metadata": {},
     "outputs": [
      {
       "output_type": "stream",
       "stream": "stdout",
       "text": [
        "if both inputs are on, fires\n"
       ]
      },
      {
       "metadata": {},
       "output_type": "pyout",
       "prompt_number": 87,
       "text": [
        "1"
       ]
      }
     ],
     "prompt_number": 87
    },
    {
     "cell_type": "heading",
     "level": 1,
     "metadata": {},
     "source": [
      "Now, a challenge.. Change the weights or the threshold so the neuron implements an OR function (ie it fires if either or both of the inputs are on)"
     ]
    },
    {
     "cell_type": "code",
     "collapsed": true,
     "input": [],
     "language": "python",
     "metadata": {},
     "outputs": [],
     "prompt_number": null
    }
   ],
   "metadata": {}
  }
 ]
}