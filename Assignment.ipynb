{
 "cells": [
  {
   "cell_type": "markdown",
   "metadata": {},
   "source": [
    "# PSY105 Assignment 1\n",
    "\n",
    "These are the essential details: \n",
    "    \n",
    "\n",
    "## The Task\n",
    "\n",
    "You task is to think of a possible investigation and explain how you would do it (and why it would be worth doing). There is not a single right answer to this assignment, so it is a chance to show some creativity.\n",
    "\n",
    "Lecture 5 and an example assignment are now available at\n",
    "https://github.com/tomstafford/emerge\n",
    "\n",
    "\n",
    "## Submission\n",
    "\n",
    "email me an ipython notebook file (.ipynb) which discusses an investigation of the model of memory we have looked at in the lectures (culminating in Lecture 4). \n",
    "\n",
    "Deadline: December 18th, noon\n",
    "\n",
    "You should use the headings provided in the template here\n",
    "https://github.com/tomstafford/emerge/blob/master/Assignment%20example.ipynb\n",
    "\n",
    "## Questions\n",
    "\n",
    "I have added you all to a google group where I can answer questions\n",
    "https://groups.google.com/a/sheffield.ac.uk/forum/?hl=en-GB#!forum/psy105-group\n",
    "\n",
    "This group allows answers to questions to be provided in a way every student on the course can benefit from.  \n",
    "You can subscribe to this group to receive updates by email if you wish  \n",
    "Tom cannot answer questions after Wednesday the 16th at 9am  \n",
    "\n",
    "I will not answer questions emailed to me directly, please submit them via tthis google group so when I provide an answer everyone can benefit.\n",
    "\n",
    "There will be a 2nd assignment with a deadline after Christmas. This will be an essay which draws on Tony Prescott's material as well.\n",
    "\n"
   ]
  }
 ],
 "metadata": {
  "kernelspec": {
   "display_name": "Python 2",
   "language": "python",
   "name": "python2"
  },
  "language_info": {
   "codemirror_mode": {
    "name": "ipython",
    "version": 2
   },
   "file_extension": ".py",
   "mimetype": "text/x-python",
   "name": "python",
   "nbconvert_exporter": "python",
   "pygments_lexer": "ipython2",
   "version": "2.7.6"
  }
 },
 "nbformat": 4,
 "nbformat_minor": 0
}
