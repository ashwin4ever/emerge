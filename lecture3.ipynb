{
 "cells": [
  {
   "cell_type": "markdown",
   "metadata": {},
   "source": [
    "# PSY105 Lecture 3: The Hebb Rule"
   ]
  },
  {
   "cell_type": "markdown",
   "metadata": {},
   "source": [
    "In our first lecture we discussed emergance in interacting systems. Could the mind emerge from a network of simple elements?\n",
    "\n",
    "In our second lecture we looked at simple models of neurons. These make the assumption that neurons are information processors: they take in signals, combine them, and pass them on according to a shared set of rules. A key part of this rule-set is that incoming information - the inputs - are multiplied by weights.\n",
    "\n",
    "In this lecture, we'll look at a simple process that is capable of adjusting the weights between two neurons: The Hebb Rule."
   ]
  },
  {
   "cell_type": "code",
   "execution_count": 1,
   "metadata": {
    "collapsed": false
   },
   "outputs": [
    {
     "data": {
      "text/html": [
       "<iframe src=https://en.wikipedia.org/wiki/Donald_O._Hebb width=1000 height=350></iframe>"
      ],
      "text/plain": [
       "<IPython.core.display.HTML object>"
      ]
     },
     "execution_count": 1,
     "metadata": {},
     "output_type": "execute_result"
    }
   ],
   "source": [
    "from IPython.display import HTML\n",
    "HTML('<iframe src=https://en.wikipedia.org/wiki/Donald_O._Hebb width=1000 height=350></iframe>')\n",
    "\n"
   ]
  },
  {
   "cell_type": "markdown",
   "metadata": {
    "collapsed": true
   },
   "source": [
    "#D.O. Hebb and his rule for weight change\n",
    "\n",
    "Hebb said\n",
    "\n",
    ">When an axon of cell A is near enough to excite a cell B and repeatedly or persistently takes part in firing it, some growth process or metabolic change takes place in one or both cells such that A's efficiency, as one of the cells firing B, is increased\n",
    "\n",
    "Read it a few times to check you understand it. It is often colloquially expressed as\n",
    "\n",
    "> Neurons that fire together wire together\n",
    "\n",
    "Although the idea seems simple enough, we learn a lot about a theory by taking the form expressed in words, and converting it into the more precise form of mathematics.\n",
    "\n",
    "What might Hebb's rule look like in code?"
   ]
  },
  {
   "cell_type": "code",
   "execution_count": 1,
   "metadata": {
    "collapsed": false
   },
   "outputs": [
    {
     "name": "stdout",
     "output_type": "stream",
     "text": [
      "Weight between the neurons A and B is: 0\n"
     ]
    }
   ],
   "source": [
    "outputA=0 #this neuron is off\n",
    "outputB=0 #this neuron is off\n",
    "weightA_B=0 #the weight between them starts at 0\n",
    "learning_rate=0.1 #this controls how fast the weights change\n",
    "\n",
    "print \"Weight between the neurons A and B is: \" + str(weightA_B)"
   ]
  },
  {
   "cell_type": "code",
   "execution_count": 2,
   "metadata": {
    "collapsed": false
   },
   "outputs": [
    {
     "name": "stdout",
     "output_type": "stream",
     "text": [
      "now learning happens\n",
      " - weight is now : 0.0\n"
     ]
    }
   ],
   "source": [
    "print \"now learning happens\"\n",
    "\n",
    "change_in_weight=learning_rate * outputA * outputB\n",
    "\n",
    "weightA_B=weightA_B+ change_in_weight\n",
    "\n",
    "print \" - weight is now : \" + str(weightA_B)"
   ]
  },
  {
   "cell_type": "markdown",
   "metadata": {},
   "source": [
    "Change output1 to represent the neuron being ON. What happens to the learning?"
   ]
  },
  {
   "cell_type": "code",
   "execution_count": 3,
   "metadata": {
    "collapsed": false
   },
   "outputs": [
    {
     "name": "stdout",
     "output_type": "stream",
     "text": [
      "now learning happens\n",
      " - weight is now : 0.1\n"
     ]
    }
   ],
   "source": [
    "outputA=1\n",
    "outputB=1\n",
    "\n",
    "print \"now learning happens\"\n",
    "\n",
    "change_in_weight=learning_rate * outputA * outputB\n",
    "\n",
    "weightA_B=weightA_B+ change_in_weight\n",
    "\n",
    "print \" - weight is now : \" + str(weightA_B)"
   ]
  },
  {
   "cell_type": "markdown",
   "metadata": {},
   "source": [
    "Learning only occurs in what circumstance?"
   ]
  },
  {
   "cell_type": "markdown",
   "metadata": {},
   "source": [
    "What happens if you run the learning cell (number [9]) multiple times?"
   ]
  },
  {
   "cell_type": "code",
   "execution_count": 12,
   "metadata": {
    "collapsed": false
   },
   "outputs": [
    {
     "name": "stdout",
     "output_type": "stream",
     "text": [
      "Multiple trials, repeated learning\n"
     ]
    },
    {
     "data": {
      "text/plain": [
       "<matplotlib.text.Text at 0x7fb134261410>"
      ]
     },
     "execution_count": 12,
     "metadata": {},
     "output_type": "execute_result"
    },
    {
     "data": {
      "image/png": "[encoded data removed]",
      "text/plain": [
       "<matplotlib.figure.Figure at 0x7fb1344958d0>"
      ]
     },
     "metadata": {},
     "output_type": "display_data"
    }
   ],
   "source": [
    "print \"Multiple trials, repeated learning\"\n",
    "\n",
    "number_of_trials=10 #try changing this number\n",
    "weight=0.0001\n",
    "\n",
    "record=[] #this variable will track the weight values as they change\n",
    "\n",
    "n=0 #this tracks how many trials learning has happened on so far\n",
    "while n<number_of_trials:\n",
    "    n=n+1 #add one to the number of trials so far\n",
    "    record.append(weight) # record the existing weight\n",
    "    weight=weight + (learning_rate * outputA * outputB) #new weight is old weight + change\n",
    "    # ---- alternate rule which slows down as learning progresses\n",
    "    #weight=weight/(1+weight) #(pseudo-normalisation - see below)\n",
    "    # ---- uncomment the line above to implement this\n",
    "    \n",
    "    \n",
    "import pylab as plt #get graph plotting commands\n",
    "#draw graphs in this notebook rather than in separate windows\n",
    "%matplotlib inline \n",
    "\n",
    "plt.plot(range(number_of_trials),record,'.-')\n",
    "plt.xlabel('Trial number')\n",
    "plt.ylabel('Weight')"
   ]
  },
  {
   "cell_type": "markdown",
   "metadata": {},
   "source": [
    "This has some properties we would expect from a learning system\n",
    "* more exposure -> more learning\n",
    "\n",
    "And some we wouldn't\n",
    "* Learning doesn't slow down\n",
    "* Learning can increase forever?\n",
    "* No unlearning?"
   ]
  },
  {
   "cell_type": "markdown",
   "metadata": {},
   "source": [
    "#Multiple hebb rules (and the benefits of explicit models)\n",
    "\n",
    "By putting Hebb's verbal formula into code we can convince ourselves that it would really work to allow weights to change between two neurons, but we also make obvious a couple of things that the rule doesn't specify: the rule only lets weights increase, which they can do forever - there is no mechanism for limiting weight growth or reducing weights.\n",
    "\n",
    "These limitations have led people to explore a wide range of intepretations of Hebb's original rule (see https://en.wikipedia.org/wiki/Hebbian_theory). For us, the important thing to note is that you learn something extra about even a simple theory when you try and build an explicit model."
   ]
  },
  {
   "cell_type": "markdown",
   "metadata": {},
   "source": [
    "## a side note about normalisation\n",
    "\n",
    "The models used in the rest of the course use a process called normalisation to limit the size of the weights in the network. This means, effectively, that when some weights grow others have to shrink. "
   ]
  },
  {
   "cell_type": "markdown",
   "metadata": {},
   "source": [
    "#Coincidence detection\n",
    "\n",
    "This simple Hebbian system performs the function of 'coincidence detection'\n",
    "\n",
    "As psychologists, you have already met coincidence detection in one of the fundamental topics taught in any introductory psychology course:"
   ]
  },
  {
   "cell_type": "code",
   "execution_count": null,
   "metadata": {
    "collapsed": false
   },
   "outputs": [],
   "source": [
    "from IPython.display import YouTubeVideo\n",
    "YouTubeVideo('Eo7jcI8fAuI')"
   ]
  },
  {
   "cell_type": "markdown",
   "metadata": {},
   "source": [
    "For those with less of an orientation towards frivolity, here is the Phil Zimbardo introducing original footage of Pavlov's experiments"
   ]
  },
  {
   "cell_type": "code",
   "execution_count": 13,
   "metadata": {
    "collapsed": false
   },
   "outputs": [
    {
     "data": {
      "text/html": [
       "\n",
       "        <iframe\n",
       "            width=\"400\"\n",
       "            height=\"300\"\n",
       "            src=\"https://www.youtube.com/embed/hhqumfpxuzI\"\n",
       "            frameborder=\"0\"\n",
       "            allowfullscreen\n",
       "        ></iframe>\n",
       "        "
      ],
      "text/plain": [
       "<IPython.lib.display.YouTubeVideo at 0x7fb134495590>"
      ]
     },
     "execution_count": 13,
     "metadata": {},
     "output_type": "execute_result"
    }
   ],
   "source": [
    "from IPython.display import YouTubeVideo\n",
    "YouTubeVideo('hhqumfpxuzI')"
   ]
  },
  {
   "cell_type": "markdown",
   "metadata": {},
   "source": [
    "You have also come across coincidence detection in a more abstract form if you have done any introductory statistics:"
   ]
  },
  {
   "cell_type": "code",
   "execution_count": null,
   "metadata": {
    "collapsed": false
   },
   "outputs": [],
   "source": [
    "from IPython.display import Image\n",
    "Image(url= \"https://imgs.xkcd.com/comics/correlation.png\", width=600)\n"
   ]
  },
  {
   "cell_type": "code",
   "execution_count": null,
   "metadata": {
    "collapsed": false
   },
   "outputs": [],
   "source": [
    "#Scatterplot for illustrative purposes\n",
    "\n",
    "Image(url=\"https://upload.wikimedia.org/wikipedia/commons/f/ff/Scatterplot_r%3D.47.png\", width=600)\n"
   ]
  },
  {
   "cell_type": "markdown",
   "metadata": {},
   "source": [
    "#End questions\n",
    "\n",
    "If you have followed this lecture, you will be able to answer this question:\n",
    "\n",
    ">How does a neural network encode correlation between cell firing?\n",
    "\n",
    "And something to think about:\n",
    "\n",
    ">If neuron A fires when event 1 happens, and neuron B fires when event 2 happens, and these two events have happened together repeatedly in the past, what will happen when event 1 happens on it's own? \n",
    "\n",
    "and\n",
    "\n",
    ">How could you describe this at the function level?\n",
    "\n"
   ]
  },
  {
   "cell_type": "code",
   "execution_count": null,
   "metadata": {
    "collapsed": true
   },
   "outputs": [],
   "source": []
  }
 ],
 "metadata": {
  "kernelspec": {
   "display_name": "Python 2",
   "language": "python",
   "name": "python2"
  },
  "language_info": {
   "codemirror_mode": {
    "name": "ipython",
    "version": 2
   },
   "file_extension": ".py",
   "mimetype": "text/x-python",
   "name": "python",
   "nbconvert_exporter": "python",
   "pygments_lexer": "ipython2",
   "version": "2.7.9"
  }
 },
 "nbformat": 4,
 "nbformat_minor": 0
}
