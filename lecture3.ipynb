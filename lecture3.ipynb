{
 "cells": [
  {
   "cell_type": "markdown",
   "metadata": {},
   "source": [
    "# PSY105 Lecture 3: The Hebb Rule"
   ]
  },
  {
   "cell_type": "markdown",
   "metadata": {},
   "source": [
    "In our first lecture we discussed emergance in interacting systems. Could the mind emerge from a network of simple elements?\n",
    "\n",
    "In our second lecture we looked at simple models of neurons. These make the assumption that neurons are information processors: they take in signals, combine them, and pass them on according to a shared set of rules. A key part of this rule-set is that incoming information - the inputs - are multiplied by weights.\n",
    "\n",
    "In this lecture, we'll look at a simple process that is capable of adjusting the weights between two neurons: The Hebb Rule."
   ]
  },
  {
   "cell_type": "code",
   "execution_count": 6,
   "metadata": {
    "collapsed": false
   },
   "outputs": [
    {
     "data": {
      "text/html": [
       "<iframe src=https://en.wikipedia.org/wiki/Donald_O._Hebb width=1000 height=350></iframe>"
      ],
      "text/plain": [
       "<IPython.core.display.HTML object>"
      ]
     },
     "execution_count": 6,
     "metadata": {},
     "output_type": "execute_result"
    }
   ],
   "source": [
    "from IPython.display import HTML\n",
    "HTML('<iframe src=https://en.wikipedia.org/wiki/Donald_O._Hebb width=1000 height=350></iframe>')\n",
    "\n"
   ]
  },
  {
   "cell_type": "markdown",
   "metadata": {},
   "source": [
    "Plan for this notebook  \n",
    "Hebb  \n",
    "neurons that wire together fire together  \n",
    "a mechanism for coincidence detection  \n",
    "classical conditioning\n",
    "ie prediction"
   ]
  },
  {
   "cell_type": "markdown",
   "metadata": {
    "collapsed": true
   },
   "source": [
    "#D.O. Hebb and his rule for weight change\n",
    "\n",
    "Hebb said\n",
    "\n",
    ">When an axon of cell A is near enough to excite a cell B and repeatedly or persistently takes part in firing it, some >growth process or metabolic change takes place in one or both cells such that A's efficiency, as one of the cells >firing B, is increased\n",
    "\n",
    "Read it a few times to check you understand it. It is often colloquially expressed as\n",
    "\n",
    "> Neurons that fire together wire together\n",
    "\n",
    "Although the idea seems simple enough, we learn a lot about a theory by taking the form expressed in words, and converting it into the more precise form of mathematics.\n",
    "\n",
    "What might Hebb's rule look like in code?"
   ]
  },
  {
   "cell_type": "code",
   "execution_count": 7,
   "metadata": {
    "collapsed": false
   },
   "outputs": [
    {
     "name": "stdout",
     "output_type": "stream",
     "text": [
      "Weight between the neurons 1 and 2 is: 0\n"
     ]
    }
   ],
   "source": [
    "output1=0\n",
    "output2=0\n",
    "weight1_2=0\n",
    "learning_rate=0.1\n",
    "\n",
    "print \"Weight between the neurons 1 and 2 is: \" + str(weight1_2)"
   ]
  },
  {
   "cell_type": "code",
   "execution_count": 8,
   "metadata": {
    "collapsed": false
   },
   "outputs": [
    {
     "name": "stdout",
     "output_type": "stream",
     "text": [
      "now learning happens\n",
      " - weight is now : 0.0\n"
     ]
    }
   ],
   "source": [
    "print \"now learning happens\"\n",
    "\n",
    "change_in_weight=learning_rate * output1 * output2\n",
    "\n",
    "weight1_2=weight1_2+ change_in_weight\n",
    "\n",
    "print \" - weight is now : \" + str(weight1_2)"
   ]
  },
  {
   "cell_type": "markdown",
   "metadata": {},
   "source": [
    "Change output1 to represent the neuron being ON. What happens to the learning?"
   ]
  },
  {
   "cell_type": "code",
   "execution_count": 9,
   "metadata": {
    "collapsed": false
   },
   "outputs": [
    {
     "name": "stdout",
     "output_type": "stream",
     "text": [
      "now learning happens\n",
      " - weight is now : 0.1\n"
     ]
    }
   ],
   "source": [
    "output1=1\n",
    "output2=1\n",
    "\n",
    "print \"now learning happens\"\n",
    "\n",
    "change_in_weight=learning_rate * output1 * output2\n",
    "\n",
    "weight1_2=weight1_2+ change_in_weight\n",
    "\n",
    "print \" - weight is now : \" + str(weight1_2)"
   ]
  },
  {
   "cell_type": "markdown",
   "metadata": {},
   "source": [
    "Learning only occurs in what circumstance?"
   ]
  },
  {
   "cell_type": "markdown",
   "metadata": {},
   "source": [
    "What happens if you run the learning cell (number [6]) multiple times?"
   ]
  },
  {
   "cell_type": "code",
   "execution_count": 10,
   "metadata": {
    "collapsed": false
   },
   "outputs": [
    {
     "name": "stdout",
     "output_type": "stream",
     "text": [
      "Multiple trials, repeated learning\n"
     ]
    },
    {
     "data": {
      "text/plain": [
       "<matplotlib.text.Text at 0x7f709901a150>"
      ]
     },
     "execution_count": 10,
     "metadata": {},
     "output_type": "execute_result"
    },
    {
     "data": {
      "image/png": "[encoded data removed]",
      "text/plain": [
       "<matplotlib.figure.Figure at 0x7f70b85b1950>"
      ]
     },
     "metadata": {},
     "output_type": "display_data"
    }
   ],
   "source": [
    "print \"Multiple trials, repeated learning\"\n",
    "\n",
    "number_of_trials=10 #try changing this number\n",
    "\n",
    "trials=range(0,number_of_trials) #say there are ten trials\n",
    "weights=[t/float(10) for t in trials] #calculate the weight after each trials\n",
    "\n",
    "import pylab as plt #get graph plotting commands\n",
    "#draw graphs in this notebook rather than in separate windows\n",
    "%matplotlib inline \n",
    "\n",
    "plt.plot(trials,weights,'.-')\n",
    "plt.xlabel('Trial number')\n",
    "plt.ylabel('Weight')"
   ]
  },
  {
   "cell_type": "markdown",
   "metadata": {},
   "source": [
    "This has some properties we would expect from a learning system\n",
    "* more exposure -> more learning\n",
    "\n",
    "And some we wouldn't\n",
    "* Learning doesn't slow down\n",
    "* Learning can increase forever?\n",
    "* No unlearning?"
   ]
  },
  {
   "cell_type": "markdown",
   "metadata": {},
   "source": [
    "#Multiple hebb rules (and the benefits of explicit models)\n",
    "\n",
    "By putting Hebb's verbal formula into code we can convince ourselves that it would really work to allow weights to change between two neurons, but we also make obvious a couple of things that the rule doesn't specify: the rule only lets weights increase, which they can do forever - there is no mechanism for limiting weight growth or reducing weights.\n",
    "\n",
    "These limitations have led people to explore a wide range of intepretations of Hebb's original rule (see https://en.wikipedia.org/wiki/Hebbian_theory). For us, the important thing to note is that you learn something extra about even a simple theory when you try and build an explicit model"
   ]
  },
  {
   "cell_type": "markdown",
   "metadata": {},
   "source": [
    "## a side note about normalisation\n",
    "\n",
    "The models used in the rest of the course use a process called normalisation to limit the size of the weights in the network. This means, effectively, that when some weights grow others have to shrink. "
   ]
  },
  {
   "cell_type": "markdown",
   "metadata": {},
   "source": [
    "#Coincidence detection\n",
    "\n",
    "This simple Hebbian system performs the function of 'coincidence detection'\n",
    "\n",
    "As psychologists, you have already met a coincidence detection in one of the fundamental topics taught in any introductory psychology course:"
   ]
  },
  {
   "cell_type": "code",
   "execution_count": 13,
   "metadata": {
    "collapsed": false
   },
   "outputs": [
    {
     "data": {
      "text/html": [
       "\n",
       "        <iframe\n",
       "            width=\"400\"\n",
       "            height=\"300\"\n",
       "            src=\"https://www.youtube.com/embed/Eo7jcI8fAuI\"\n",
       "            frameborder=\"0\"\n",
       "            allowfullscreen\n",
       "        ></iframe>\n",
       "        "
      ],
      "text/plain": [
       "<IPython.lib.display.YouTubeVideo at 0x7f70b862a250>"
      ]
     },
     "execution_count": 13,
     "metadata": {},
     "output_type": "execute_result"
    }
   ],
   "source": [
    "from IPython.display import YouTubeVideo\n",
    "YouTubeVideo('Eo7jcI8fAuI')"
   ]
  },
  {
   "cell_type": "markdown",
   "metadata": {},
   "source": [
    "For those with less of an orientation towards frivolity, here is the Phil Zimbardo introducing original footage of Pavlov's original experiments"
   ]
  },
  {
   "cell_type": "code",
   "execution_count": 14,
   "metadata": {
    "collapsed": false
   },
   "outputs": [
    {
     "data": {
      "text/html": [
       "\n",
       "        <iframe\n",
       "            width=\"400\"\n",
       "            height=\"300\"\n",
       "            src=\"https://www.youtube.com/embed/hhqumfpxuzI\"\n",
       "            frameborder=\"0\"\n",
       "            allowfullscreen\n",
       "        ></iframe>\n",
       "        "
      ],
      "text/plain": [
       "<IPython.lib.display.YouTubeVideo at 0x7f70b860b990>"
      ]
     },
     "execution_count": 14,
     "metadata": {},
     "output_type": "execute_result"
    }
   ],
   "source": [
    "from IPython.display import YouTubeVideo\n",
    "YouTubeVideo('hhqumfpxuzI')"
   ]
  },
  {
   "cell_type": "markdown",
   "metadata": {},
   "source": [
    "You have also come across coincidence detection in a more abstract form if you have done any introductory statistics"
   ]
  },
  {
   "cell_type": "code",
   "execution_count": 17,
   "metadata": {
    "collapsed": false
   },
   "outputs": [
    {
     "data": {
      "text/html": [
       "<img src=\"https://imgs.xkcd.com/comics/correlation.png\" width=\"600\"/>"
      ],
      "text/plain": [
       "<IPython.core.display.Image object>"
      ]
     },
     "execution_count": 17,
     "metadata": {},
     "output_type": "execute_result"
    }
   ],
   "source": [
    "from IPython.display import Image\n",
    "Image(url= \"https://imgs.xkcd.com/comics/correlation.png\", width=600)\n"
   ]
  },
  {
   "cell_type": "code",
   "execution_count": 20,
   "metadata": {
    "collapsed": false
   },
   "outputs": [
    {
     "data": {
      "text/html": [
       "<img src=\"https://upload.wikimedia.org/wikipedia/commons/f/ff/Scatterplot_r%3D.47.png\" width=\"600\"/>"
      ],
      "text/plain": [
       "<IPython.core.display.Image object>"
      ]
     },
     "execution_count": 20,
     "metadata": {},
     "output_type": "execute_result"
    }
   ],
   "source": [
    "#Scatter plot for illustrative purposes\n",
    "\n",
    "Image(url=\"https://upload.wikimedia.org/wikipedia/commons/f/ff/Scatterplot_r%3D.47.png\", width=600)\n"
   ]
  },
  {
   "cell_type": "markdown",
   "metadata": {},
   "source": [
    "#End questions\n",
    "\n",
    "If you have followed this lecture, you will be able to answer this question:\n",
    "How does a neural network encode correlation / association?\n",
    "\n",
    "And something to think about:\n",
    "If neuron A fires when event 1 happens, and neuron B fires when event 2 happens, and these two events happen together repeatedly, what will happen when event 1 happens on it's own? How could you describe this at the function level?\n",
    "\n"
   ]
  }
 ],
 "metadata": {
  "kernelspec": {
   "display_name": "Python 2",
   "language": "python",
   "name": "python2"
  },
  "language_info": {
   "codemirror_mode": {
    "name": "ipython",
    "version": 2
   },
   "file_extension": ".py",
   "mimetype": "text/x-python",
   "name": "python",
   "nbconvert_exporter": "python",
   "pygments_lexer": "ipython2",
   "version": "2.7.9"
  }
 },
 "nbformat": 4,
 "nbformat_minor": 0
}
