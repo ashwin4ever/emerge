{
 "cells": [
  {
   "cell_type": "markdown",
   "metadata": {},
   "source": [
    "# PSY105 Lecture 3: The Hebb Rule"
   ]
  },
  {
   "cell_type": "markdown",
   "metadata": {},
   "source": [
    "In our first lecture we discussed emergance in interacting systems. Could the mind emerge from a network of simple elements?\n",
    "\n",
    "In our second lecture we looked at simple models of neurons. These make the assumption that neurons are information processors: they take in signals, combine them, and pass them on according to a shared set of rules. A key part of this rule-set is that incoming information - the inputs - are multiplied by weights.\n",
    "\n",
    "In this lecture, we'll look at a simple process that is capable of adjusting the weights between two neurons: The Hebb Rule."
   ]
  },
  {
   "cell_type": "code",
   "execution_count": 12,
   "metadata": {
    "collapsed": false
   },
   "outputs": [
    {
     "data": {
      "text/html": [
       "<iframe src=https://en.wikipedia.org/wiki/Donald_O._Hebb width=1000 height=350></iframe>"
      ],
      "text/plain": [
       "<IPython.core.display.HTML object>"
      ]
     },
     "execution_count": 12,
     "metadata": {},
     "output_type": "execute_result"
    }
   ],
   "source": [
    "from IPython.display import HTML\n",
    "HTML('<iframe src=https://en.wikipedia.org/wiki/Donald_O._Hebb width=1000 height=350></iframe>')\n",
    "\n"
   ]
  },
  {
   "cell_type": "markdown",
   "metadata": {},
   "source": [
    "Plan for this notebook  \n",
    "Hebb  \n",
    "neurons that wire together fire together  \n",
    "a mechanism for coincidence detection  \n",
    "classical conditioning\n",
    "ie prediction"
   ]
  },
  {
   "cell_type": "markdown",
   "metadata": {
    "collapsed": true
   },
   "source": [
    "Hebb said\n",
    "\n",
    "HEBB QUOTE HERE\n",
    "\n",
    "in code"
   ]
  },
  {
   "cell_type": "code",
   "execution_count": 13,
   "metadata": {
    "collapsed": false
   },
   "outputs": [
    {
     "name": "stdout",
     "output_type": "stream",
     "text": [
      "Weight between the neurons 1 and 2 is: 0\n"
     ]
    }
   ],
   "source": [
    "output1=0\n",
    "output2=0\n",
    "weight1_2=0\n",
    "learning_rate=0.1\n",
    "\n",
    "print \"Weight between the neurons 1 and 2 is: \" + str(weight1_2)"
   ]
  },
  {
   "cell_type": "code",
   "execution_count": 14,
   "metadata": {
    "collapsed": false
   },
   "outputs": [
    {
     "name": "stdout",
     "output_type": "stream",
     "text": [
      "now learning happens\n",
      " - weight is now : 0.0\n"
     ]
    }
   ],
   "source": [
    "print \"now learning happens\"\n",
    "\n",
    "change_in_weight=learning_rate * output1 * output2\n",
    "\n",
    "weight1_2=weight1_2+ change_in_weight\n",
    "\n",
    "print \" - weight is now : \" + str(weight1_2)"
   ]
  },
  {
   "cell_type": "markdown",
   "metadata": {},
   "source": [
    "Change output1 to represent the neuron being ON. What happens to the learning?"
   ]
  },
  {
   "cell_type": "code",
   "execution_count": 15,
   "metadata": {
    "collapsed": false
   },
   "outputs": [
    {
     "name": "stdout",
     "output_type": "stream",
     "text": [
      "now learning happens\n",
      " - weight is now : 0.1\n"
     ]
    }
   ],
   "source": [
    "output1=1\n",
    "output2=1\n",
    "\n",
    "print \"now learning happens\"\n",
    "\n",
    "change_in_weight=learning_rate * output1 * output2\n",
    "\n",
    "weight1_2=weight1_2+ change_in_weight\n",
    "\n",
    "print \" - weight is now : \" + str(weight1_2)"
   ]
  },
  {
   "cell_type": "markdown",
   "metadata": {},
   "source": [
    "Learning only occurs in what circumstance?"
   ]
  },
  {
   "cell_type": "markdown",
   "metadata": {},
   "source": [
    "What happens if you run the learning cell (number [6]) multiple times?"
   ]
  },
  {
   "cell_type": "code",
   "execution_count": 34,
   "metadata": {
    "collapsed": false
   },
   "outputs": [
    {
     "data": {
      "text/plain": [
       "<matplotlib.text.Text at 0xaee8b2cc>"
      ]
     },
     "execution_count": 34,
     "metadata": {},
     "output_type": "execute_result"
    },
    {
     "data": {
      "image/png": "[encoded data removed]",
      "text/plain": [
       "<matplotlib.figure.Figure at 0xaed2c6ac>"
      ]
     },
     "metadata": {},
     "output_type": "display_data"
    }
   ],
   "source": [
    "\n",
    "trials=range(0,11) #say there are ten trials\n",
    "weights=[t/float(10) for t in trials] #calculate the weight after each trials\n",
    "\n",
    "import pylab as plt #get graph plotting commands\n",
    "#draw graphs in this notebook rather than in separate windows\n",
    "%matplotlib inline \n",
    "\n",
    "plt.plot(trials,weights,'.-')\n",
    "plt.xlabel('Trial number')\n",
    "plt.ylabel('Weight')"
   ]
  },
  {
   "cell_type": "markdown",
   "metadata": {},
   "source": [
    "This has some properties we would expect from a learning system\n",
    "* more exposure -> more learning\n",
    "\n",
    "And some we wouldn't\n",
    "* Learning doesn't slow down\n",
    "* Learning can increase forever?\n",
    "* No unlearning?"
   ]
  },
  {
   "cell_type": "markdown",
   "metadata": {},
   "source": [
    "This simple system performs the function of 'coincidence detection'\n",
    "\n",
    "As psychologists, you have already met a coincidence detection in one of the fundamental topics taught in any introductory psychology course"
   ]
  },
  {
   "cell_type": "code",
   "execution_count": null,
   "metadata": {
    "collapsed": true
   },
   "outputs": [],
   "source": [
    "VIDEO OF CLASSICAL CONDITIONING HERE"
   ]
  },
  {
   "cell_type": "markdown",
   "metadata": {},
   "source": [
    "You have also come across coincidence detection in a more abstract form if you have done any introductory statistics"
   ]
  },
  {
   "cell_type": "code",
   "execution_count": null,
   "metadata": {
    "collapsed": true
   },
   "outputs": [],
   "source": [
    "XKCD cartoon on correlation here"
   ]
  },
  {
   "cell_type": "code",
   "execution_count": null,
   "metadata": {
    "collapsed": true
   },
   "outputs": [],
   "source": [
    "Scatter plot for illustrative purposes"
   ]
  },
  {
   "cell_type": "markdown",
   "metadata": {},
   "source": [
    "End question: how does a neural network encode correlation / association?\n",
    "    \n",
    "If neuron 1 fires when event 1 happens\n",
    "and neuron 2 fires when event 2 happens"
   ]
  }
 ],
 "metadata": {
  "kernelspec": {
   "display_name": "Python 2",
   "language": "python",
   "name": "python2"
  },
  "language_info": {
   "codemirror_mode": {
    "name": "ipython",
    "version": 2
   },
   "file_extension": ".py",
   "mimetype": "text/x-python",
   "name": "python",
   "nbconvert_exporter": "python",
   "pygments_lexer": "ipython2",
   "version": "2.7.10"
  }
 },
 "nbformat": 4,
 "nbformat_minor": 0
}
